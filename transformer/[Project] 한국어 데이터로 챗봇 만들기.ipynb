{
 "cells": [
  {
   "cell_type": "code",
   "execution_count": 30,
   "id": "4b104e8a",
   "metadata": {},
   "outputs": [],
   "source": [
    "from tqdm.notebook import tqdm\n",
    "tqdm.pandas()\n",
    "import tensorflow as tf\n",
    "import tensorflow_datasets as tfds\n",
    "import os\n",
    "import re\n",
    "import numpy as np\n",
    "import pandas as pd\n",
    "import matplotlib.pyplot as plt"
   ]
  },
  {
   "cell_type": "code",
   "execution_count": 1,
   "id": "ff92e2c4",
   "metadata": {},
   "outputs": [
    {
     "name": "stdout",
     "output_type": "stream",
     "text": [
      "ln: failed to create symbolic link '/aiffel/aiffel/transformer_chatbot/data/ChatbotData .csv': File exists\r\n"
     ]
    }
   ],
   "source": [
    "# ! mkdir -p ~/aiffel/transformer_chatbot/data/\n",
    "# ! ln -s ~/data/* ~/aiffel/transformer_chatbot/data/"
   ]
  },
  {
   "cell_type": "code",
   "execution_count": 10,
   "id": "eb8cf3b6",
   "metadata": {},
   "outputs": [
    {
     "name": "stdout",
     "output_type": "stream",
     "text": [
      "'ChatbotData .csv'\n",
      "/aiffel\n"
     ]
    }
   ],
   "source": [
    "!ls /aiffel/aiffel/transformer_chatbot/data\n",
    "!echo $HOME"
   ]
  },
  {
   "cell_type": "markdown",
   "id": "6d9ffd77",
   "metadata": {},
   "source": [
    "# 1. 데이터 전처리\n",
    "\n",
    "[songys/Chatbot_data](https://github.com/songys/Chatbot_data/blob/master/ChatbotData.csv)\n",
    "\n",
    "\n",
    "1. 챗봇 트레이닝용 문답 페어 11,823개\n",
    "2. 일상다반사 0, 이별(부정) 1, 사랑(긍정) 2로 레이블링"
   ]
  },
  {
   "cell_type": "code",
   "execution_count": 34,
   "id": "25c2bce5",
   "metadata": {},
   "outputs": [
    {
     "name": "stdout",
     "output_type": "stream",
     "text": [
      "(11823, 3)\n"
     ]
    },
    {
     "data": {
      "text/html": [
       "<div>\n",
       "<style scoped>\n",
       "    .dataframe tbody tr th:only-of-type {\n",
       "        vertical-align: middle;\n",
       "    }\n",
       "\n",
       "    .dataframe tbody tr th {\n",
       "        vertical-align: top;\n",
       "    }\n",
       "\n",
       "    .dataframe thead th {\n",
       "        text-align: right;\n",
       "    }\n",
       "</style>\n",
       "<table border=\"1\" class=\"dataframe\">\n",
       "  <thead>\n",
       "    <tr style=\"text-align: right;\">\n",
       "      <th></th>\n",
       "      <th>Q</th>\n",
       "      <th>A</th>\n",
       "      <th>label</th>\n",
       "    </tr>\n",
       "  </thead>\n",
       "  <tbody>\n",
       "    <tr>\n",
       "      <th>5243</th>\n",
       "      <td>회의 망했어</td>\n",
       "      <td>다음에 잘 하면 돼요.</td>\n",
       "      <td>0</td>\n",
       "    </tr>\n",
       "    <tr>\n",
       "      <th>7880</th>\n",
       "      <td>잘살아야 되는데</td>\n",
       "      <td>바뀌어도 힘든 건 비슷하죠.</td>\n",
       "      <td>1</td>\n",
       "    </tr>\n",
       "    <tr>\n",
       "      <th>3558</th>\n",
       "      <td>울적한 기분이 안 없어져.</td>\n",
       "      <td>거리를 걸어보세요.</td>\n",
       "      <td>0</td>\n",
       "    </tr>\n",
       "    <tr>\n",
       "      <th>1662</th>\n",
       "      <td>면도 귀찬하</td>\n",
       "      <td>지저분해요.</td>\n",
       "      <td>0</td>\n",
       "    </tr>\n",
       "    <tr>\n",
       "      <th>8603</th>\n",
       "      <td>헤어진건 아닌데</td>\n",
       "      <td>헤어진 거 같나요.</td>\n",
       "      <td>1</td>\n",
       "    </tr>\n",
       "    <tr>\n",
       "      <th>1696</th>\n",
       "      <td>몇시간 동안 안와</td>\n",
       "      <td>기다리는 동안 많은 생각이 들었겠네요.</td>\n",
       "      <td>0</td>\n",
       "    </tr>\n",
       "    <tr>\n",
       "      <th>3367</th>\n",
       "      <td>오랜만에 떨려서 좋았는데</td>\n",
       "      <td>떨리는 감정은 그 자체로 소중해요.</td>\n",
       "      <td>0</td>\n",
       "    </tr>\n",
       "    <tr>\n",
       "      <th>8037</th>\n",
       "      <td>정말 무슨생각인지 궁금하네</td>\n",
       "      <td>궁금증을 접어두셔요.</td>\n",
       "      <td>1</td>\n",
       "    </tr>\n",
       "    <tr>\n",
       "      <th>1362</th>\n",
       "      <td>드디어 손 잡음</td>\n",
       "      <td>좋았겠어요.</td>\n",
       "      <td>0</td>\n",
       "    </tr>\n",
       "    <tr>\n",
       "      <th>10529</th>\n",
       "      <td>여자가 남자한테 잘해주면 질려?</td>\n",
       "      <td>좋은 사람이라면 고마워할 거예요.</td>\n",
       "      <td>2</td>\n",
       "    </tr>\n",
       "    <tr>\n",
       "      <th>11796</th>\n",
       "      <td>혼인신고하니까 마음이 이상해</td>\n",
       "      <td>법적 부부가 된 걸 축하해요!</td>\n",
       "      <td>2</td>\n",
       "    </tr>\n",
       "    <tr>\n",
       "      <th>1348</th>\n",
       "      <td>두고 봐</td>\n",
       "      <td>잘 하실 거예요!</td>\n",
       "      <td>0</td>\n",
       "    </tr>\n",
       "    <tr>\n",
       "      <th>11456</th>\n",
       "      <td>짝남한테 여러 번 차이다가 나중에 사귀게 된 사람도 있을까?</td>\n",
       "      <td>있을 수 있지요.</td>\n",
       "      <td>2</td>\n",
       "    </tr>\n",
       "    <tr>\n",
       "      <th>5414</th>\n",
       "      <td>8년 연애끝의 이별.</td>\n",
       "      <td>공허함이 더 크시겠어요.</td>\n",
       "      <td>1</td>\n",
       "    </tr>\n",
       "    <tr>\n",
       "      <th>9649</th>\n",
       "      <td>드라마같은 사랑 하고 싶어</td>\n",
       "      <td>드라마는 현실과 달라요.</td>\n",
       "      <td>2</td>\n",
       "    </tr>\n",
       "  </tbody>\n",
       "</table>\n",
       "</div>"
      ],
      "text/plain": [
       "                                       Q                      A  label\n",
       "5243                              회의 망했어           다음에 잘 하면 돼요.      0\n",
       "7880                            잘살아야 되는데        바뀌어도 힘든 건 비슷하죠.      1\n",
       "3558                      울적한 기분이 안 없어져.             거리를 걸어보세요.      0\n",
       "1662                              면도 귀찬하                 지저분해요.      0\n",
       "8603                            헤어진건 아닌데             헤어진 거 같나요.      1\n",
       "1696                           몇시간 동안 안와  기다리는 동안 많은 생각이 들었겠네요.      0\n",
       "3367                       오랜만에 떨려서 좋았는데    떨리는 감정은 그 자체로 소중해요.      0\n",
       "8037                      정말 무슨생각인지 궁금하네            궁금증을 접어두셔요.      1\n",
       "1362                            드디어 손 잡음                 좋았겠어요.      0\n",
       "10529                  여자가 남자한테 잘해주면 질려?     좋은 사람이라면 고마워할 거예요.      2\n",
       "11796                    혼인신고하니까 마음이 이상해       법적 부부가 된 걸 축하해요!      2\n",
       "1348                                두고 봐              잘 하실 거예요!      0\n",
       "11456  짝남한테 여러 번 차이다가 나중에 사귀게 된 사람도 있을까?              있을 수 있지요.      2\n",
       "5414                         8년 연애끝의 이별.          공허함이 더 크시겠어요.      1\n",
       "9649                      드라마같은 사랑 하고 싶어          드라마는 현실과 달라요.      2"
      ]
     },
     "execution_count": 34,
     "metadata": {},
     "output_type": "execute_result"
    }
   ],
   "source": [
    "path = os.getenv('HOME')+'/aiffel/transformer_chatbot/data/ChatbotData .csv' \n",
    "origin = pd.read_csv(path) \n",
    "\n",
    "print(origin.shape)\n",
    "origin.sample(15)"
   ]
  },
  {
   "cell_type": "code",
   "execution_count": 50,
   "id": "610da63f",
   "metadata": {},
   "outputs": [],
   "source": [
    "df = origin.copy()"
   ]
  },
  {
   "cell_type": "code",
   "execution_count": 51,
   "id": "462935c1",
   "metadata": {},
   "outputs": [
    {
     "name": "stdout",
     "output_type": "stream",
     "text": [
      "Original: 안녕하세요! Hello, how are you?\n",
      "Processed: 안녕하세요 ! hello , how are you ?\n",
      "\n",
      "Original: 오늘 날씨가 정말 좋네요. It's a beautiful day.\n",
      "Processed: 오늘 날씨가 정말 좋네요 . it s a beautiful day .\n",
      "\n",
      "Original: 가격은 1000원 입니다.🔥 🔥 \n",
      "Processed: 가격은 원 입니다 .\n",
      "\n",
      "Original: 오늘은 2024년 6월 20일입니다. Happy coding!\n",
      "Processed: 오늘은 년 월 일입니다 . happy coding !\n",
      "\n"
     ]
    }
   ],
   "source": [
    "def preprocess(sentence):\n",
    "    # 혹시 모를 영어 처리\n",
    "    sentence = sentence.lower().strip()\n",
    "    # 구두점 앞뒤에 공백 추가\n",
    "    sentence = re.sub(r\"([?.!,])\", r\" \\1 \", sentence)\n",
    "    # 여러 개의 연속된 공백을 하나의 공백으로 치환\n",
    "    sentence = re.sub(r'[\" \"]+', \" \", sentence)\n",
    "    # 한글 자모, 구두점, 영어 알파벳을 제외한 모든 문자를 공백으로 대체\n",
    "    sentence = re.sub(r\"[^가-힣a-zA-Z?.!,]+\", \" \", sentence)\n",
    "    sentence = sentence.strip()\n",
    "    return sentence\n",
    "\n",
    "def postprocess(df):\n",
    "    # null 제거\n",
    "    df.replace('', np.nan, inplace=True)\n",
    "    df.dropna(subset=['Q'], inplace=True)\n",
    "    df.dropna(subset=['A'], inplace=True)\n",
    "\n",
    "\n",
    "\n",
    "test_sentences = [\n",
    "    \"안녕하세요! Hello, how are you?\",\n",
    "    \"오늘 날씨가 정말 좋네요. It's a beautiful day.\",\n",
    "    \"가격은 1000원 입니다.🔥 🔥 \",\n",
    "    \"오늘은 2024년 6월 20일입니다. Happy coding!\"\n",
    "]\n",
    "\n",
    "for sentence in test_sentences:\n",
    "    print(f\"Original: {sentence}\")\n",
    "    print(f\"Processed: {preprocess(sentence)}\")\n",
    "    print()"
   ]
  },
  {
   "cell_type": "code",
   "execution_count": 52,
   "id": "893f7724",
   "metadata": {},
   "outputs": [
    {
     "name": "stdout",
     "output_type": "stream",
     "text": [
      "(11750, 2)\n"
     ]
    },
    {
     "data": {
      "application/vnd.jupyter.widget-view+json": {
       "model_id": "7b6196a2de1c438ea1b78233edf1f8e6",
       "version_major": 2,
       "version_minor": 0
      },
      "text/plain": [
       "  0%|          | 0/11750 [00:00<?, ?it/s]"
      ]
     },
     "metadata": {},
     "output_type": "display_data"
    },
    {
     "data": {
      "application/vnd.jupyter.widget-view+json": {
       "model_id": "59d25596a6c54b0697acf62416fd1cda",
       "version_major": 2,
       "version_minor": 0
      },
      "text/plain": [
       "  0%|          | 0/11750 [00:00<?, ?it/s]"
      ]
     },
     "metadata": {},
     "output_type": "display_data"
    },
    {
     "name": "stdout",
     "output_type": "stream",
     "text": [
      "(11750, 2)\n"
     ]
    }
   ],
   "source": [
    "# label drop\n",
    "df = df.drop(columns=['label'])\n",
    "# Q,A 중복인 경우만 제거\n",
    "df.drop_duplicates(subset = ['Q', 'A'], inplace = True)\n",
    "print(df.shape)\n",
    "\n",
    "df['Q'] = df['Q'].progress_apply(preprocess)\n",
    "df['A'] = df['A'].progress_apply(preprocess)\n",
    "postprocess(df)\n",
    "print(df.shape)"
   ]
  },
  {
   "cell_type": "code",
   "execution_count": 53,
   "id": "36769c3a",
   "metadata": {},
   "outputs": [
    {
     "name": "stdout",
     "output_type": "stream",
     "text": [
      "Q의 최소 길이 : 1\n",
      "Q의 최대 길이 : 16\n",
      "Q의 평균 길이 : 3.9419574468085106\n",
      "A의 최소 길이 : 1\n",
      "A의 최대 길이 : 24\n",
      "A의 평균 길이 : 4.716595744680851\n"
     ]
    },
    {
     "data": {
      "image/png": "[encoded data removed]",
      "text/plain": [
       "<Figure size 432x288 with 2 Axes>"
      ]
     },
     "metadata": {
      "needs_background": "light"
     },
     "output_type": "display_data"
    },
    {
     "data": {
      "image/png": "[encoded data removed]",
      "text/plain": [
       "<Figure size 432x288 with 1 Axes>"
      ]
     },
     "metadata": {
      "needs_background": "light"
     },
     "output_type": "display_data"
    },
    {
     "data": {
      "image/png": "[encoded data removed]",
      "text/plain": [
       "<Figure size 432x288 with 1 Axes>"
      ]
     },
     "metadata": {
      "needs_background": "light"
     },
     "output_type": "display_data"
    }
   ],
   "source": [
    "import matplotlib.pyplot as plt\n",
    "\n",
    "\n",
    "question_len = [len(s.split()) for s in df['Q']]\n",
    "answer_len = [len(s.split()) for s in df['A']]\n",
    "\n",
    "print('Q의 최소 길이 : {}'.format(np.min(question_len)))\n",
    "print('Q의 최대 길이 : {}'.format(np.max(question_len)))\n",
    "print('Q의 평균 길이 : {}'.format(np.mean(question_len)))\n",
    "print('A의 최소 길이 : {}'.format(np.min(answer_len)))\n",
    "print('A의 최대 길이 : {}'.format(np.max(answer_len)))\n",
    "print('A의 평균 길이 : {}'.format(np.mean(answer_len)))\n",
    "\n",
    "plt.subplot(1,2,1)\n",
    "plt.boxplot(question_len)\n",
    "plt.title('Question')\n",
    "plt.subplot(1,2,2)\n",
    "plt.boxplot(answer_len)\n",
    "plt.title('Answer')\n",
    "plt.tight_layout()\n",
    "plt.show()\n",
    "\n",
    "plt.title('Question')\n",
    "plt.hist(question_len, bins = 100)\n",
    "plt.xlabel('length of samples')\n",
    "plt.ylabel('number of samples')\n",
    "plt.show()\n",
    "\n",
    "plt.title('Answer')\n",
    "plt.hist(answer_len, bins = 100)\n",
    "plt.xlabel('length of samples')\n",
    "plt.ylabel('number of samples')\n",
    "plt.show()"
   ]
  },
  {
   "cell_type": "code",
   "execution_count": 54,
   "id": "e9b25003",
   "metadata": {},
   "outputs": [
    {
     "name": "stdout",
     "output_type": "stream",
     "text": [
      "전체 샘플 중 길이가 10 이하인 샘플의 비율: 0.9955744680851064\n",
      "전체 샘플 중 길이가 12 이하인 샘플의 비율: 0.9943829787234043\n"
     ]
    }
   ],
   "source": [
    "def below_threshold_len(max_len, nested_list):\n",
    "    cnt = 0\n",
    "    for s in nested_list:\n",
    "        if len(s.split()) <= max_len:\n",
    "            cnt = cnt + 1\n",
    "    print(\n",
    "        \"전체 샘플 중 길이가 %s 이하인 샘플의 비율: %s\"\n",
    "        % (max_len, (cnt / len(nested_list)))\n",
    "    )\n",
    "\n",
    "# 적절한 임의의 최대 길이\n",
    "q_len = 10\n",
    "a_len = 12\n",
    "MAX_LENGTH = max(q_len, a_len) # 12\n",
    "\n",
    "below_threshold_len(q_len, df[\"Q\"])\n",
    "below_threshold_len(a_len, df[\"A\"])"
   ]
  },
  {
   "cell_type": "code",
   "execution_count": 55,
   "id": "a02b2b1f",
   "metadata": {},
   "outputs": [
    {
     "name": "stdout",
     "output_type": "stream",
     "text": [
      "전체 샘플수 : 11632\n",
      "삭제된 샘플수: 118\n"
     ]
    }
   ],
   "source": [
    "before = len(df)\n",
    "\n",
    "def is_within(text, max_len):\n",
    "    return len(text.split()) <= max_len\n",
    "\n",
    "\n",
    "filtered_q = df[\"Q\"].apply(is_within, max_len=q_len)\n",
    "filtered_a = df[\"A\"].apply(is_within, max_len=a_len)\n",
    "\n",
    "# merge\n",
    "df = df[filtered_q & filtered_a]\n",
    "print(\"전체 샘플수 :\", (len(df)))\n",
    "print(f\"삭제된 샘플수: {before - len(df)}\")"
   ]
  },
  {
   "cell_type": "markdown",
   "id": "f3a8a20f",
   "metadata": {},
   "source": [
    "# 2. 전처리 part2\n",
    "> 병렬 데이터 전처리"
   ]
  },
  {
   "cell_type": "code",
   "execution_count": 56,
   "id": "7e3cef24",
   "metadata": {},
   "outputs": [
    {
     "name": "stdout",
     "output_type": "stream",
     "text": [
      "START_TOKEN의 번호 : [8181]\n",
      "END_TOKEN의 번호 : [8182]\n",
      "8183\n"
     ]
    }
   ],
   "source": [
    "questions, answers = df[\"Q\"],df[\"A\"]\n",
    "tokenizer = tfds.deprecated.text.SubwordTextEncoder.build_from_corpus(questions + answers, target_vocab_size=2**13)\n",
    "\n",
    "START_TOKEN, END_TOKEN = [tokenizer.vocab_size], [tokenizer.vocab_size + 1]\n",
    "print('START_TOKEN의 번호 :' ,[tokenizer.vocab_size])\n",
    "print('END_TOKEN의 번호 :' ,[tokenizer.vocab_size + 1])\n",
    "\n",
    "VOCAB_SIZE = tokenizer.vocab_size + 2\n",
    "print(VOCAB_SIZE)"
   ]
  },
  {
   "cell_type": "code",
   "execution_count": 57,
   "id": "c9513e83",
   "metadata": {},
   "outputs": [
    {
     "name": "stdout",
     "output_type": "stream",
     "text": [
      "정수 인코딩 후의 21번째 질문 샘플: [5728, 600, 2784, 4092]\n",
      "정수 인코딩 후의 21번째 답변 샘플: [2619, 7517, 9, 6248, 97, 1]\n"
     ]
    }
   ],
   "source": [
    "print('정수 인코딩 후의 21번째 질문 샘플: {}'.format(tokenizer.encode(questions[21])))\n",
    "print('정수 인코딩 후의 21번째 답변 샘플: {}'.format(tokenizer.encode(answers[21])))"
   ]
  },
  {
   "cell_type": "code",
   "execution_count": 58,
   "id": "d2dbf086",
   "metadata": {},
   "outputs": [
    {
     "name": "stdout",
     "output_type": "stream",
     "text": [
      "12\n",
      "단어장의 크기 : 8183\n",
      "필터링 후의 질문 샘플 개수: 10673\n",
      "필터링 후의 답변 샘플 개수: 10673\n"
     ]
    }
   ],
   "source": [
    "def tokenize_and_filter(inputs, outputs, max_length):\n",
    "    tokenized_inputs, tokenized_outputs = [], []\n",
    "\n",
    "    for q, a in zip(inputs, outputs):\n",
    "        # 정수 인코딩 과정에서 시작 토큰과 종료 토큰을 추가\n",
    "        q = START_TOKEN + tokenizer.encode(q) + END_TOKEN\n",
    "        a = START_TOKEN + tokenizer.encode(a) + END_TOKEN\n",
    "\n",
    "        # max_length 이하인 경우에만 데이터셋으로 허용\n",
    "        if len(q) <= max_length and len(a) <= max_length:\n",
    "            tokenized_inputs.append(q)\n",
    "            tokenized_outputs.append(a)\n",
    "\n",
    "    # max_length 으로 모든 데이터셋을 패딩\n",
    "    tokenized_inputs = tf.keras.preprocessing.sequence.pad_sequences(\n",
    "        tokenized_inputs, maxlen=max_length, padding=\"post\"\n",
    "    )\n",
    "    tokenized_outputs = tf.keras.preprocessing.sequence.pad_sequences(\n",
    "        tokenized_outputs, maxlen=max_length, padding=\"post\"\n",
    "    )\n",
    "\n",
    "    return tokenized_inputs, tokenized_outputs\n",
    "\n",
    "print(MAX_LENGTH)\n",
    "questions, answers = tokenize_and_filter(questions, answers, MAX_LENGTH)\n",
    "print('단어장의 크기 :',(VOCAB_SIZE))\n",
    "print('필터링 후의 질문 샘플 개수: {}'.format(len(questions)))\n",
    "print('필터링 후의 답변 샘플 개수: {}'.format(len(answers)))"
   ]
  },
  {
   "cell_type": "code",
   "execution_count": 71,
   "id": "08c9d564",
   "metadata": {},
   "outputs": [
    {
     "data": {
      "text/plain": [
       "(11632, 2)"
      ]
     },
     "execution_count": 71,
     "metadata": {},
     "output_type": "execute_result"
    }
   ],
   "source": []
  },
  {
   "cell_type": "markdown",
   "id": "88656911",
   "metadata": {},
   "source": [
    "# 3. 데이터 전처리\n",
    "> Teacher Forcing"
   ]
  },
  {
   "cell_type": "code",
   "execution_count": 59,
   "id": "e5428b87",
   "metadata": {},
   "outputs": [],
   "source": [
    "BATCH_SIZE = 64\n",
    "BUFFER_SIZE = 20000\n",
    "\n",
    "# 디코더는 이전의 target을 다음의 input으로 사용합니다.\n",
    "# 이에 따라 outputs에서는 START_TOKEN을 제거하겠습니다.\n",
    "dataset = tf.data.Dataset.from_tensor_slices((\n",
    "    {\n",
    "        'inputs': questions,\n",
    "        'dec_inputs': answers[:, :-1]\n",
    "    },\n",
    "    {\n",
    "        'outputs': answers[:, 1:]\n",
    "    },\n",
    "))\n",
    "\n",
    "dataset = dataset.cache()\n",
    "dataset = dataset.shuffle(BUFFER_SIZE)\n",
    "dataset = dataset.batch(BATCH_SIZE)\n",
    "dataset = dataset.prefetch(tf.data.experimental.AUTOTUNE)"
   ]
  },
  {
   "cell_type": "markdown",
   "id": "632e1501",
   "metadata": {},
   "source": [
    "# 4. 모델 학습\n"
   ]
  },
  {
   "cell_type": "markdown",
   "id": "84a11350",
   "metadata": {},
   "source": [
    "## 4-1. 공통 코드\n",
    "> 인코더, 디코더 공용\n",
    "\n",
    "1. PositionalEncoding\n",
    "2. padding mask\n",
    "3. scaled_dot_product_attention\n",
    "4. MultiHeadAttention"
   ]
  },
  {
   "cell_type": "code",
   "execution_count": 63,
   "id": "15e925c7",
   "metadata": {},
   "outputs": [
    {
     "data": {
      "image/png": "[encoded data removed]",
      "text/plain": [
       "<Figure size 2880x1800 with 2 Axes>"
      ]
     },
     "metadata": {
      "needs_background": "light"
     },
     "output_type": "display_data"
    }
   ],
   "source": [
    "# 포지셔널 인코딩 레이어\n",
    "class PositionalEncoding(tf.keras.layers.Layer):\n",
    "\n",
    "    def __init__(self, position=50, d_model=128):\n",
    "        super(PositionalEncoding, self).__init__()\n",
    "        # (1, 50, 128)\n",
    "        self.pos_encoding = self.positional_encoding(position, d_model)\n",
    "\n",
    "    def get_angles(self, position, i, d_model):\n",
    "        angles = 1 / tf.pow(10000, (2 * (i // 2)) / tf.cast(d_model, tf.float32))\n",
    "        return position * angles  # broadcasting (50, 128)\n",
    "\n",
    "    def positional_encoding(self, position, d_model):\n",
    "        # 각도 배열 생성 (50, 128)\n",
    "        angle_rads = self.get_angles(\n",
    "            position=tf.range(position, dtype=tf.float32)[:, tf.newaxis],  # (50, 1)\n",
    "            i=tf.range(d_model, dtype=tf.float32)[tf.newaxis, :],  # (1, 128)\n",
    "            d_model=d_model,\n",
    "        )\n",
    "\n",
    "        # 배열의 짝수 인덱스에는 sin 함수 적용\n",
    "        sines = tf.math.sin(angle_rads[:, 0::2])  # (50, 64)\n",
    "        # 배열의 홀수 인덱스에는 cosine 함수 적용\n",
    "        cosines = tf.math.cos(angle_rads[:, 1::2])  # (50, 64)\n",
    "\n",
    "        # sin과 cosine이 교차되도록 재배열\n",
    "        pos_encoding = tf.stack([sines, cosines], axis=0)  # (2, 50, 64)\n",
    "        # Transpose시 0축(2)가 2축으로 보낼 때, z축이 합쳐지면서 2개의 row로 pair가 만들어진다.\n",
    "        # [[1,1], [2,2]] -> [[1,2], [1,2]]\n",
    "        pos_encoding = tf.transpose(pos_encoding, [1, 2, 0])  # (50, 64, 2)\n",
    "        pos_encoding = tf.reshape(pos_encoding, [position, d_model])  # (50, 128)\n",
    "\n",
    "        pos_encoding = pos_encoding[tf.newaxis, ...]  # (1, 50, 128)\n",
    "        return tf.cast(pos_encoding, tf.float32)\n",
    "\n",
    "    def call(self, inputs):\n",
    "        return inputs + self.pos_encoding[:, : tf.shape(inputs)[1], :]\n",
    "\n",
    "\n",
    "def create_padding_mask(x):\n",
    "    # x = (batch_size, max 문장 토큰 수)\n",
    "    mask = tf.cast(tf.math.equal(x, 0), tf.float32)\n",
    "    # (batch_size, 1, 1, sequence length)\n",
    "    return mask[:, tf.newaxis, tf.newaxis, :]\n",
    "\n",
    "\n",
    "def scaled_dot_product_attention(query, key, value, mask):\n",
    "    \"\"\"\n",
    "    query: (batch_size, num_heads, query의 문장 길이, d_model/num_heads)\n",
    "    key: (batch_size, num_heads, key의 문장 길이, d_model/num_heads)\n",
    "    value: (batch_size, num_heads, value의 문장 길이, d_model/num_heads)\n",
    "    padding_mask : (batch_size, 1, 1, key의 문장 길이)\n",
    "    \"\"\"\n",
    "\n",
    "    # Q와 K의 곱. 어텐션 스코어 행렬.\n",
    "    matmul_qk = tf.matmul(query, key, transpose_b=True)\n",
    "\n",
    "    depth = tf.cast(tf.shape(key)[-1], tf.float32)  # 헤드로 쪼개진 embedding 크기\n",
    "    logits = matmul_qk / tf.math.sqrt(depth)  # 스케일링, dk의 루트값으로 나눠준다.\n",
    "\n",
    "    # 마스킹. 어텐션 스코어 행렬의 마스킹 할 위치에 매우 작은 음수값(-inf)을 넣는다.\n",
    "    # 매우 작은 값이므로 소프트맥스 함수를 지나면 행렬의 해당 위치의 값은 0이 된다.\n",
    "    if mask is not None:\n",
    "        logits += mask * -1e9  # FYI, 0은 softmax에서 양수값을 가진다.\n",
    "\n",
    "    # 소프트맥스 함수는 마지막 차원인 key의 문장 길이 방향으로 수행된다.\n",
    "    # attention weight : (batch_size, num_heads, query의 문장 길이, key의 문장 길이)\n",
    "    attention_weights = tf.nn.softmax(logits, axis=-1)\n",
    "\n",
    "    # output : (batch_size, num_heads, query의 문장 길이, d_model/num_heads)\n",
    "    output = tf.matmul(attention_weights, value)\n",
    "    return output, attention_weights\n",
    "\n",
    "\n",
    "class MultiHeadAttention(tf.keras.layers.Layer):\n",
    "\n",
    "    def __init__(self, d_model, num_heads, name=\"multi_head_attention\"):\n",
    "        super(MultiHeadAttention, self).__init__(name=name)\n",
    "        self.num_heads = num_heads\n",
    "        self.d_model = d_model\n",
    "\n",
    "        assert d_model % self.num_heads == 0\n",
    "\n",
    "        # d_model을 num_heads로 나눈 값.\n",
    "        # 논문 기준 : 64 (512 // 8)\n",
    "        self.depth = d_model // self.num_heads\n",
    "\n",
    "        # WQ, WK, WV에 해당하는 밀집층 정의\n",
    "        self.query_dense = tf.keras.layers.Dense(units=d_model)\n",
    "        self.key_dense = tf.keras.layers.Dense(units=d_model)\n",
    "        self.value_dense = tf.keras.layers.Dense(units=d_model)\n",
    "\n",
    "        # WO에 해당하는 밀집층 정의\n",
    "        self.dense = tf.keras.layers.Dense(units=d_model)\n",
    "\n",
    "    # num_heads 개수만큼 q, k, v를 split하는 함수\n",
    "    def split_heads(self, inputs, batch_size):\n",
    "        inputs = tf.reshape(inputs, shape=(batch_size, -1, self.num_heads, self.depth))\n",
    "        return tf.transpose(\n",
    "            inputs, perm=[0, 2, 1, 3]\n",
    "        )  # (batch, heads, max 문장 토큰 갯수, 64)\n",
    "\n",
    "    def call(self, inputs):\n",
    "        query, key, value, mask = (\n",
    "            inputs[\"query\"],\n",
    "            inputs[\"key\"],\n",
    "            inputs[\"value\"],\n",
    "            inputs[\"mask\"],\n",
    "        )\n",
    "        batch_size = tf.shape(query)[0]\n",
    "\n",
    "        # 1. WQ, WK, WV에 해당하는 밀집층 지나기\n",
    "        # q : (batch_size, query의 문장 길이, d_model)\n",
    "        # k : (batch_size, key의 문장 길이, d_model)\n",
    "        # v : (batch_size, value의 문장 길이, d_model)\n",
    "        # 참고) 인코더(k, v)-디코더(q) 어텐션에서는 query 길이와 key, value의 길이는 다를 수 있다.\n",
    "        query = self.query_dense(query)\n",
    "        key = self.key_dense(key)\n",
    "        value = self.value_dense(value)\n",
    "\n",
    "        # 2. 헤드 나누기\n",
    "        # q : (batch_size, num_heads, query의 문장 길이, d_model/num_heads)\n",
    "        # k : (batch_size, num_heads, key의 문장 길이, d_model/num_heads)\n",
    "        # v : (batch_size, num_heads, value의 문장 길이, d_model/num_heads)\n",
    "        query = self.split_heads(query, batch_size)\n",
    "        key = self.split_heads(key, batch_size)\n",
    "        value = self.split_heads(value, batch_size)\n",
    "\n",
    "        # 3. 스케일드 닷 프로덕트 어텐션. 앞서 구현한 함수 사용.\n",
    "        # (batch_size, num_heads, query의 문장 길이, d_model/num_heads)\n",
    "        scaled_attention, _ = scaled_dot_product_attention(query, key, value, mask)\n",
    "        # (batch_size, query의 문장 길이, num_heads, d_model/num_heads)\n",
    "        scaled_attention = tf.transpose(scaled_attention, perm=[0, 2, 1, 3])\n",
    "\n",
    "        # 4. 헤드 연결(concatenate)하기\n",
    "        # (batch_size, query의 문장 길이, d_model)\n",
    "        concat_attention = tf.reshape(scaled_attention, (batch_size, -1, self.d_model))\n",
    "\n",
    "        # 5. WO에 해당하는 밀집층 지나기\n",
    "        # (batch_size, query의 문장 길이, d_model)\n",
    "        outputs = self.dense(concat_attention)\n",
    "\n",
    "        return outputs\n",
    "\n",
    "\n",
    "dim = 256\n",
    "sample_pos_encoding = PositionalEncoding(30, dim)\n",
    "plt.figure(figsize=(40, 25))\n",
    "plt.pcolormesh(sample_pos_encoding.pos_encoding.numpy()[0], cmap=\"summer\")\n",
    "plt.xlabel(\"Depth\")\n",
    "plt.xlim((0, dim))\n",
    "plt.ylabel(\"Position\")\n",
    "plt.colorbar()\n",
    "plt.show()\n"
   ]
  },
  {
   "cell_type": "markdown",
   "id": "fbc22f4c",
   "metadata": {},
   "source": [
    "## 4-2. Encoder"
   ]
  },
  {
   "cell_type": "code",
   "execution_count": 61,
   "id": "22e6face",
   "metadata": {},
   "outputs": [],
   "source": [
    "# 인코더 하나의 레이어를 함수로 구현.\n",
    "# 이 하나의 레이어 안에는 두 개의 서브 레이어가 존재합니다.\n",
    "def encoder_layer(units, d_model, num_heads, dropout, name=\"encoder_layer\"):\n",
    "    inputs = tf.keras.Input(shape=(None, d_model), name=\"inputs\")\n",
    "\n",
    "    # 인코더는 패딩 마스크 사용, 디코더는 look ahead mask 사용\n",
    "    padding_mask = tf.keras.Input(shape=(1, 1, None), name=\"padding_mask\")\n",
    "\n",
    "    # (1)서브 레이어: 멀티 헤드 어텐션 수행 (self-attention)\n",
    "    attention = MultiHeadAttention(d_model, num_heads, name=\"attention\")(\n",
    "        {\n",
    "            \"query\": inputs,\n",
    "            \"key\": inputs,\n",
    "            \"value\": inputs,   # Q = K = V\n",
    "            \"mask\": padding_mask, # # 패딩 마스크 사용\n",
    "        }\n",
    "    ) # (batch_size, query의 문장 길이, d_model)\n",
    "\n",
    "    # 어텐션의 결과는 Dropout과 Layer Normalization이라는 훈련을 돕는 테크닉을 수행\n",
    "    attention = tf.keras.layers.Dropout(rate=dropout)(attention)\n",
    "    attention = tf.keras.layers.LayerNormalization(epsilon=1e-6)(inputs + attention)\n",
    "\n",
    "    # (2)서브 레이어: 2개의 완전연결층\n",
    "    outputs = tf.keras.layers.Dense(units=units, activation=\"relu\")(attention)\n",
    "    outputs = tf.keras.layers.Dense(units=d_model)(outputs)\n",
    "\n",
    "    # 완전연결층의 결과는 Dropout과 LayerNormalization이라는 훈련을 돕는 테크닉을 수행\n",
    "    outputs = tf.keras.layers.Dropout(rate=dropout)(outputs)\n",
    "    outputs = tf.keras.layers.LayerNormalization(epsilon=1e-6)(attention + outputs)\n",
    "\n",
    "    return tf.keras.Model(inputs=[inputs, padding_mask], outputs=outputs, name=name)\n",
    "\n",
    "\n",
    "def encoder(vocab_size, num_layers, units, d_model, num_heads, dropout, name=\"encoder\"):\n",
    "    inputs = tf.keras.Input(shape=(None,), name=\"inputs\")\n",
    "\n",
    "    # 패딩 마스크 사용\n",
    "    padding_mask = tf.keras.Input(shape=(1, 1, None), name=\"padding_mask\")\n",
    "\n",
    "    # 임베딩 레이어\n",
    "    embeddings = tf.keras.layers.Embedding(vocab_size, d_model)(inputs)\n",
    "    embeddings *= tf.math.sqrt(tf.cast(d_model, tf.float32))\n",
    "\n",
    "    # 포지셔널 인코딩\n",
    "    embeddings = PositionalEncoding(vocab_size, d_model)(embeddings)\n",
    "\n",
    "    outputs = tf.keras.layers.Dropout(rate=dropout)(embeddings)\n",
    "\n",
    "    # num_layers만큼 쌓아올린 인코더의 층.\n",
    "    for i in range(num_layers):\n",
    "        outputs = encoder_layer(\n",
    "            units=units,\n",
    "            d_model=d_model,\n",
    "            num_heads=num_heads,\n",
    "            dropout=dropout,\n",
    "            name=\"encoder_layer_{}\".format(i),\n",
    "        )([outputs, padding_mask])\n",
    "\n",
    "    return tf.keras.Model(inputs=[inputs, padding_mask], outputs=outputs, name=name)    "
   ]
  },
  {
   "cell_type": "markdown",
   "id": "0f9f9e47",
   "metadata": {},
   "source": [
    "## 4-3. Decoder"
   ]
  },
  {
   "cell_type": "code",
   "execution_count": 67,
   "id": "121167ba",
   "metadata": {},
   "outputs": [],
   "source": [
    "# 가릴곳: 1, 참조할곳: 0\n",
    "def create_look_ahead_mask(x):\n",
    "    seq_len = tf.shape(x)[1]\n",
    "    look_ahead_mask = 1 - tf.linalg.band_part(\n",
    "        tf.ones((seq_len, seq_len)), -1, 0\n",
    "    )\n",
    "    padding_mask = create_padding_mask(x)\n",
    "    return tf.maximum(look_ahead_mask, padding_mask)\n",
    "\n",
    "create_look_ahead_mask(tf.constant([[1, 2, 3, 4, 5]]))\n",
    "# 디코더 하나의 레이어를 함수로 구현.\n",
    "# 이 하나의 레이어 안에는 세 개의 서브 레이어가 존재합니다.\n",
    "def decoder_layer(units, d_model, num_heads, dropout, name=\"decoder_layer\"):\n",
    "    inputs = tf.keras.Input(shape=(None, d_model), name=\"inputs\")\n",
    "    enc_outputs = tf.keras.Input(shape=(None, d_model), name=\"encoder_outputs\")\n",
    "    look_ahead_mask = tf.keras.Input(shape=(1, None, None), name=\"look_ahead_mask\")\n",
    "    padding_mask = tf.keras.Input(shape=(1, 1, None), name=\"padding_mask\")\n",
    "\n",
    "    # 첫 번째 서브 레이어 : 멀티 헤드 어텐션 수행 (셀프 어텐션)\n",
    "    attention1 = MultiHeadAttention(d_model, num_heads, name=\"attention_1\")(\n",
    "        inputs={\n",
    "            \"query\": inputs,\n",
    "            \"key\": inputs,\n",
    "            \"value\": inputs,\n",
    "            \"mask\": look_ahead_mask,\n",
    "        }\n",
    "    )\n",
    "\n",
    "    # 멀티 헤드 어텐션의 결과는 LayerNormalization이라는 훈련을 돕는 테크닉을 수행\n",
    "    attention1 = tf.keras.layers.LayerNormalization(epsilon=1e-6)(attention1 + inputs)\n",
    "\n",
    "    # 두 번째 서브 레이어 : 마스크드 멀티 헤드 어텐션 수행 (인코더-디코더 어텐션)\n",
    "    attention2 = MultiHeadAttention(d_model, num_heads, name=\"attention_2\")(\n",
    "        inputs={\n",
    "            \"query\": attention1,\n",
    "            \"key\": enc_outputs,\n",
    "            \"value\": enc_outputs,\n",
    "            \"mask\": padding_mask,\n",
    "        }\n",
    "    )\n",
    "\n",
    "    # 마스크드 멀티 헤드 어텐션의 결과는\n",
    "    # Dropout과 LayerNormalization이라는 훈련을 돕는 테크닉을 수행\n",
    "    attention2 = tf.keras.layers.Dropout(rate=dropout)(attention2)\n",
    "    attention2 = tf.keras.layers.LayerNormalization(epsilon=1e-6)(\n",
    "        attention2 + attention1\n",
    "    )\n",
    "\n",
    "    # 세 번째 서브 레이어 : 2개의 완전연결층\n",
    "    outputs = tf.keras.layers.Dense(units=units, activation=\"relu\")(attention2)\n",
    "    outputs = tf.keras.layers.Dense(units=d_model)(outputs)\n",
    "\n",
    "    # 완전연결층의 결과는 Dropout과 LayerNormalization 수행\n",
    "    outputs = tf.keras.layers.Dropout(rate=dropout)(outputs)\n",
    "    outputs = tf.keras.layers.LayerNormalization(epsilon=1e-6)(outputs + attention2)\n",
    "\n",
    "    return tf.keras.Model(\n",
    "        inputs=[inputs, enc_outputs, look_ahead_mask, padding_mask],\n",
    "        outputs=outputs,\n",
    "        name=name,\n",
    "    )\n",
    "\n",
    "def decoder(vocab_size, num_layers, units, d_model, num_heads, dropout, name=\"decoder\"):\n",
    "    inputs = tf.keras.Input(shape=(None,), name=\"inputs\")\n",
    "    enc_outputs = tf.keras.Input(shape=(None, d_model), name=\"encoder_outputs\")\n",
    "    look_ahead_mask = tf.keras.Input(shape=(1, None, None), name=\"look_ahead_mask\")\n",
    "\n",
    "    # 패딩 마스크\n",
    "    padding_mask = tf.keras.Input(shape=(1, 1, None), name=\"padding_mask\")\n",
    "\n",
    "    # 임베딩 레이어\n",
    "    embeddings = tf.keras.layers.Embedding(vocab_size, d_model)(inputs)\n",
    "    embeddings *= tf.math.sqrt(tf.cast(d_model, tf.float32))\n",
    "\n",
    "    # 포지셔널 인코딩\n",
    "    embeddings = PositionalEncoding(vocab_size, d_model)(embeddings)\n",
    "\n",
    "    # Dropout이라는 훈련을 돕는 테크닉을 수행\n",
    "    outputs = tf.keras.layers.Dropout(rate=dropout)(embeddings)\n",
    "\n",
    "    for i in range(num_layers):\n",
    "        outputs = decoder_layer(\n",
    "            units=units,\n",
    "            d_model=d_model,\n",
    "            num_heads=num_heads,\n",
    "            dropout=dropout,\n",
    "            name=\"decoder_layer_{}\".format(i),\n",
    "        )(inputs=[outputs, enc_outputs, look_ahead_mask, padding_mask])\n",
    "\n",
    "    return tf.keras.Model(\n",
    "        inputs=[inputs, enc_outputs, look_ahead_mask, padding_mask],\n",
    "        outputs=outputs,\n",
    "        name=name,\n",
    "    )"
   ]
  },
  {
   "cell_type": "markdown",
   "id": "44caaa2a",
   "metadata": {},
   "source": [
    "## 4-4. Transformer"
   ]
  },
  {
   "cell_type": "code",
   "execution_count": 68,
   "id": "87249838",
   "metadata": {},
   "outputs": [],
   "source": [
    "def transformer(\n",
    "    vocab_size, num_layers, units, d_model, num_heads, dropout, name=\"transformer\"\n",
    "):\n",
    "    inputs = tf.keras.Input(shape=(None,), name=\"inputs\")\n",
    "    dec_inputs = tf.keras.Input(shape=(None,), name=\"dec_inputs\")\n",
    "\n",
    "    # 인코더에서 패딩을 위한 마스크\n",
    "    enc_padding_mask = tf.keras.layers.Lambda(\n",
    "        create_padding_mask, output_shape=(1, 1, None), name=\"enc_padding_mask\"\n",
    "    )(inputs)\n",
    "\n",
    "    # 디코더에서 미래의 토큰을 마스크 하기 위해서 사용합니다.\n",
    "    # 내부적으로 패딩 마스크도 포함되어져 있습니다.\n",
    "    look_ahead_mask = tf.keras.layers.Lambda(\n",
    "        create_look_ahead_mask, output_shape=(1, None, None), name=\"look_ahead_mask\"\n",
    "    )(dec_inputs)\n",
    "\n",
    "    # 두 번째 어텐션 블록에서 인코더의 벡터들을 마스킹\n",
    "    # 디코더에서 패딩을 위한 마스크\n",
    "    dec_padding_mask = tf.keras.layers.Lambda(\n",
    "        create_padding_mask, output_shape=(1, 1, None), name=\"dec_padding_mask\"\n",
    "    )(inputs)\n",
    "\n",
    "    # 인코더\n",
    "    enc_outputs = encoder(\n",
    "        vocab_size=vocab_size,\n",
    "        num_layers=num_layers,\n",
    "        units=units,\n",
    "        d_model=d_model,\n",
    "        num_heads=num_heads,\n",
    "        dropout=dropout,\n",
    "    )(inputs=[inputs, enc_padding_mask])\n",
    "\n",
    "    # 디코더\n",
    "    dec_outputs = decoder(\n",
    "        vocab_size=vocab_size,\n",
    "        num_layers=num_layers,\n",
    "        units=units,\n",
    "        d_model=d_model,\n",
    "        num_heads=num_heads,\n",
    "        dropout=dropout,\n",
    "    )(inputs=[dec_inputs, enc_outputs, look_ahead_mask, dec_padding_mask])\n",
    "\n",
    "    # 완전연결층\n",
    "    outputs = tf.keras.layers.Dense(units=vocab_size, name=\"outputs\")(dec_outputs)\n",
    "\n",
    "    return tf.keras.Model(inputs=[inputs, dec_inputs], outputs=outputs, name=name)\n"
   ]
  },
  {
   "cell_type": "code",
   "execution_count": 69,
   "id": "d7679689",
   "metadata": {},
   "outputs": [
    {
     "name": "stdout",
     "output_type": "stream",
     "text": [
      "Model: \"transformer\"\n",
      "__________________________________________________________________________________________________\n",
      "Layer (type)                    Output Shape         Param #     Connected to                     \n",
      "==================================================================================================\n",
      "inputs (InputLayer)             [(None, None)]       0                                            \n",
      "__________________________________________________________________________________________________\n",
      "dec_inputs (InputLayer)         [(None, None)]       0                                            \n",
      "__________________________________________________________________________________________________\n",
      "enc_padding_mask (Lambda)       (None, 1, 1, None)   0           inputs[0][0]                     \n",
      "__________________________________________________________________________________________________\n",
      "encoder (Functional)            (None, None, 512)    12600832    inputs[0][0]                     \n",
      "                                                                 enc_padding_mask[0][0]           \n",
      "__________________________________________________________________________________________________\n",
      "look_ahead_mask (Lambda)        (None, 1, None, None 0           dec_inputs[0][0]                 \n",
      "__________________________________________________________________________________________________\n",
      "dec_padding_mask (Lambda)       (None, 1, 1, None)   0           inputs[0][0]                     \n",
      "__________________________________________________________________________________________________\n",
      "decoder (Functional)            (None, None, 512)    16807424    dec_inputs[0][0]                 \n",
      "                                                                 encoder[0][0]                    \n",
      "                                                                 look_ahead_mask[0][0]            \n",
      "                                                                 dec_padding_mask[0][0]           \n",
      "__________________________________________________________________________________________________\n",
      "outputs (Dense)                 (None, None, 8183)   4197879     decoder[0][0]                    \n",
      "==================================================================================================\n",
      "Total params: 33,606,135\n",
      "Trainable params: 33,606,135\n",
      "Non-trainable params: 0\n",
      "__________________________________________________________________________________________________\n"
     ]
    }
   ],
   "source": [
    "tf.keras.backend.clear_session()\n",
    "\n",
    "def loss_function(y_true, y_pred):\n",
    "    y_true = tf.reshape(y_true, shape=(-1, MAX_LENGTH - 1))\n",
    "\n",
    "    loss = tf.keras.losses.SparseCategoricalCrossentropy(\n",
    "        from_logits=True, reduction=\"none\"\n",
    "    )(y_true, y_pred)\n",
    "\n",
    "    mask = tf.cast(tf.not_equal(y_true, 0), tf.float32)\n",
    "    loss = tf.multiply(loss, mask)\n",
    "\n",
    "    return tf.reduce_mean(loss)\n",
    "\n",
    "\n",
    "# 하이퍼파라미터\n",
    "NUM_LAYERS = 4 # 인코더와 디코더의 층의 개수\n",
    "D_MODEL = 512 # 인코더와 디코더 내부의 입, 출력의 고정 차원\n",
    "NUM_HEADS = 8 # 멀티 헤드 어텐션에서의 헤드 수 \n",
    "UNITS = 1024 # 피드 포워드 신경망의 은닉층의 크기\n",
    "DROPOUT = 0.1 # 드롭아웃의 비율\n",
    "\n",
    "model = transformer(\n",
    "    vocab_size=VOCAB_SIZE,\n",
    "    num_layers=NUM_LAYERS,\n",
    "    units=UNITS,\n",
    "    d_model=D_MODEL,\n",
    "    num_heads=NUM_HEADS,\n",
    "    dropout=DROPOUT)\n",
    "\n",
    "model.summary()"
   ]
  },
  {
   "cell_type": "code",
   "execution_count": 70,
   "id": "e6648476",
   "metadata": {},
   "outputs": [
    {
     "data": {
      "text/plain": [
       "Text(0.5, 0, 'Train Step')"
      ]
     },
     "execution_count": 70,
     "metadata": {},
     "output_type": "execute_result"
    },
    {
     "data": {
      "image/png": "[encoded data removed]",
      "text/plain": [
       "<Figure size 432x288 with 1 Axes>"
      ]
     },
     "metadata": {
      "needs_background": "light"
     },
     "output_type": "display_data"
    }
   ],
   "source": [
    "class CustomSchedule(tf.keras.optimizers.schedules.LearningRateSchedule):\n",
    "\n",
    "    def __init__(self, d_model, warmup_steps=4000):\n",
    "        super(CustomSchedule, self).__init__()\n",
    "\n",
    "        self.d_model = d_model\n",
    "        self.d_model = tf.cast(self.d_model, tf.float32)\n",
    "\n",
    "        self.warmup_steps = warmup_steps\n",
    "\n",
    "    def __call__(self, step):\n",
    "        arg1 = tf.math.rsqrt(step)\n",
    "        arg2 = step * (self.warmup_steps**-1.5)\n",
    "\n",
    "        return tf.math.rsqrt(self.d_model) * tf.math.minimum(arg1, arg2)\n",
    "\n",
    "    \n",
    "sample_learning_rate = CustomSchedule(d_model=128)\n",
    "plt.plot(sample_learning_rate(tf.range(200000, dtype=tf.float32)))\n",
    "plt.ylabel(\"Learning Rate\")\n",
    "plt.xlabel(\"Train Step\")"
   ]
  },
  {
   "cell_type": "code",
   "execution_count": 72,
   "id": "aefffa48",
   "metadata": {},
   "outputs": [
    {
     "name": "stdout",
     "output_type": "stream",
     "text": [
      "Epoch 1/20\n",
      "167/167 [==============================] - 24s 73ms/step - loss: 4.4547 - accuracy: 0.1103\n",
      "Epoch 2/20\n",
      "167/167 [==============================] - 12s 73ms/step - loss: 3.5061 - accuracy: 0.1761\n",
      "Epoch 3/20\n",
      "167/167 [==============================] - 12s 74ms/step - loss: 3.1774 - accuracy: 0.1832\n",
      "Epoch 4/20\n",
      "167/167 [==============================] - 12s 74ms/step - loss: 2.9978 - accuracy: 0.1936\n",
      "Epoch 5/20\n",
      "167/167 [==============================] - 12s 74ms/step - loss: 2.8159 - accuracy: 0.2039\n",
      "Epoch 6/20\n",
      "167/167 [==============================] - 12s 72ms/step - loss: 2.6112 - accuracy: 0.2181\n",
      "Epoch 7/20\n",
      "167/167 [==============================] - 12s 73ms/step - loss: 2.3866 - accuracy: 0.2389\n",
      "Epoch 8/20\n",
      "167/167 [==============================] - 12s 73ms/step - loss: 2.1372 - accuracy: 0.2666\n",
      "Epoch 9/20\n",
      "167/167 [==============================] - 12s 73ms/step - loss: 1.8743 - accuracy: 0.2962\n",
      "Epoch 10/20\n",
      "167/167 [==============================] - 12s 73ms/step - loss: 1.6094 - accuracy: 0.3306\n",
      "Epoch 11/20\n",
      "167/167 [==============================] - 12s 73ms/step - loss: 1.3448 - accuracy: 0.3666\n",
      "Epoch 12/20\n",
      "167/167 [==============================] - 12s 72ms/step - loss: 1.0998 - accuracy: 0.3993\n",
      "Epoch 13/20\n",
      "167/167 [==============================] - 12s 72ms/step - loss: 0.8794 - accuracy: 0.4307\n",
      "Epoch 14/20\n",
      "167/167 [==============================] - 12s 72ms/step - loss: 0.6954 - accuracy: 0.4573\n",
      "Epoch 15/20\n",
      "167/167 [==============================] - 12s 72ms/step - loss: 0.5413 - accuracy: 0.4827\n",
      "Epoch 16/20\n",
      "167/167 [==============================] - 12s 72ms/step - loss: 0.4215 - accuracy: 0.5022\n",
      "Epoch 17/20\n",
      "167/167 [==============================] - 12s 73ms/step - loss: 0.3385 - accuracy: 0.5147\n",
      "Epoch 18/20\n",
      "167/167 [==============================] - 12s 72ms/step - loss: 0.2770 - accuracy: 0.5262\n",
      "Epoch 19/20\n",
      "167/167 [==============================] - 12s 72ms/step - loss: 0.2454 - accuracy: 0.5302\n",
      "Epoch 20/20\n",
      "167/167 [==============================] - 12s 72ms/step - loss: 0.2227 - accuracy: 0.5333\n"
     ]
    }
   ],
   "source": [
    "learning_rate = CustomSchedule(D_MODEL)\n",
    "optimizer = tf.keras.optimizers.Adam(\n",
    "    learning_rate, beta_1=0.9, beta_2=0.98, epsilon=1e-9\n",
    ")\n",
    "def accuracy(y_true, y_pred):\n",
    "    y_true = tf.reshape(y_true, shape=(-1, MAX_LENGTH - 1))\n",
    "    return tf.keras.metrics.sparse_categorical_accuracy(y_true, y_pred)\n",
    "\n",
    "\n",
    "model.compile(\n",
    "    optimizer=optimizer, \n",
    "    loss=loss_function, \n",
    "    metrics=[accuracy],\n",
    ")\n",
    "\n",
    "history = model.fit(dataset, epochs=40, verbose=1)"
   ]
  },
  {
   "cell_type": "code",
   "execution_count": 99,
   "id": "aaedf218",
   "metadata": {},
   "outputs": [],
   "source": [
    "# state = ''\n",
    "\n",
    "def decoder_inference(sentence):\n",
    "#     global state\n",
    "    \n",
    "    sentence = preprocess(sentence)\n",
    "    # state remember\n",
    "#     state += ' ' + sentence\n",
    "#     print(state)\n",
    "#     sentence = tf.expand_dims(\n",
    "#         START_TOKEN + tokenizer.encode(state) + END_TOKEN, axis=0\n",
    "#     )\n",
    "    sentence = tf.expand_dims(\n",
    "        START_TOKEN + tokenizer.encode(sentence) + END_TOKEN, axis=0\n",
    "    )\n",
    "\n",
    "    # 디코더의 현재까지의 예측한 출력 시퀀스가 지속적으로 저장되는 변수.\n",
    "    # 처음에는 예측한 내용이 없음으로 시작 토큰만 별도 저장. ex) 8331\n",
    "    output_sequence = tf.expand_dims(START_TOKEN, 0)\n",
    "\n",
    "    # 디코더의 인퍼런스 단계\n",
    "    for i in range(MAX_LENGTH):\n",
    "        # 디코더는 최대 MAX_LENGTH의 길이만큼 다음 단어 예측을 반복합니다.\n",
    "        predictions = model(inputs=[sentence, output_sequence], training=False)\n",
    "        predictions = predictions[:, -1:, :]\n",
    "\n",
    "        # 현재 예측한 단어의 정수\n",
    "        predicted_id = tf.cast(tf.argmax(predictions, axis=-1), tf.int32)\n",
    "\n",
    "        # 만약 현재 예측한 단어가 종료 토큰이라면 for문을 종료\n",
    "        if tf.equal(predicted_id, END_TOKEN[0]):\n",
    "            break\n",
    "\n",
    "        # 예측한 단어들은 지속적으로 output_sequence에 추가됩니다.\n",
    "        # 이 output_sequence는 다시 디코더의 입력이 됩니다.\n",
    "        output_sequence = tf.concat([output_sequence, predicted_id], axis=-1)\n",
    "\n",
    "    return tf.squeeze(output_sequence, axis=0)\n",
    "\n",
    "\n",
    "\n",
    "\n",
    "def sentence_generation(sentence):    \n",
    "    # 입력 문장에 대해서 디코더를 동작 시켜 예측된 정수 시퀀스를 리턴받습니다.\n",
    "    prediction = decoder_inference(sentence)\n",
    "    \n",
    "    # 정수 시퀀스를 다시 텍스트 시퀀스로 변환합니다.\n",
    "    predicted_sentence = tokenizer.decode(\n",
    "        [i for i in prediction if i < tokenizer.vocab_size]\n",
    "    )\n",
    "\n",
    "    print(f\"🧑 : {sentence}\")\n",
    "    print(f\"🤖 : {predicted_sentence}\")"
   ]
  },
  {
   "cell_type": "code",
   "execution_count": 100,
   "id": "b61c49e9",
   "metadata": {
    "scrolled": true
   },
   "outputs": [
    {
     "name": "stdout",
     "output_type": "stream",
     "text": [
      "🧑 : 졸려\n",
      "🤖 : 낮잠을 잠깐 자도 괜찮아요 .\n"
     ]
    }
   ],
   "source": [
    "sentence_generation('졸려')"
   ]
  },
  {
   "cell_type": "code",
   "execution_count": 101,
   "id": "7aea455d",
   "metadata": {
    "scrolled": true
   },
   "outputs": [
    {
     "name": "stdout",
     "output_type": "stream",
     "text": [
      "🧑 : 낮잠 자기에는 너무 바쁜데?\n",
      "🤖 : 귀엽게 봐주세요 .\n"
     ]
    }
   ],
   "source": [
    "sentence_generation('낮잠 자기에는 너무 바쁜데?')"
   ]
  },
  {
   "cell_type": "code",
   "execution_count": 103,
   "id": "0ecb9e19",
   "metadata": {
    "scrolled": true
   },
   "outputs": [
    {
     "name": "stdout",
     "output_type": "stream",
     "text": [
      "🧑 : 싫어\n",
      "🤖 : 싫어하지 말아요 .\n"
     ]
    }
   ],
   "source": [
    "sentence_generation('싫어')"
   ]
  },
  {
   "cell_type": "code",
   "execution_count": 120,
   "id": "21cfcb89",
   "metadata": {
    "scrolled": false
   },
   "outputs": [
    {
     "name": "stdout",
     "output_type": "stream",
     "text": [
      "🧑 : 너는 뭘 좋아해?\n",
      "🤖 : 하나라도 있을 거니 열심히 찾아보세요 .\n"
     ]
    }
   ],
   "source": [
    "sentence_generation('너는 뭘 좋아해?')"
   ]
  },
  {
   "cell_type": "code",
   "execution_count": 125,
   "id": "7607ccb7",
   "metadata": {},
   "outputs": [
    {
     "name": "stdout",
     "output_type": "stream",
     "text": [
      "🧑 : 엄마\n",
      "🤖 : 연락 드려 보세요 .\n"
     ]
    }
   ],
   "source": [
    "sentence_generation('엄마')"
   ]
  },
  {
   "cell_type": "code",
   "execution_count": 126,
   "id": "11415dea",
   "metadata": {},
   "outputs": [
    {
     "name": "stdout",
     "output_type": "stream",
     "text": [
      "🧑 : 아빠\n",
      "🤖 : 여유가 생기예요 .\n"
     ]
    }
   ],
   "source": [
    "sentence_generation('아빠')"
   ]
  },
  {
   "cell_type": "code",
   "execution_count": 129,
   "id": "be8e1db3",
   "metadata": {},
   "outputs": [
    {
     "name": "stdout",
     "output_type": "stream",
     "text": [
      "🧑 : 조카\n",
      "🤖 : 방문 열어주지 마세요 .\n"
     ]
    }
   ],
   "source": [
    "sentence_generation('조카')"
   ]
  },
  {
   "cell_type": "code",
   "execution_count": 135,
   "id": "84ebd6d8",
   "metadata": {},
   "outputs": [
    {
     "name": "stdout",
     "output_type": "stream",
     "text": [
      "🧑 : 씨발롬이! 처돌았나?!\n",
      "🤖 : 그게 최선이었을 거예요 .\n",
      "\n",
      "🧑 : 어데서 함부로 손을 놀리노! 느그 서장 어딨어?! 강 서장 대꼬와!!! \n",
      "🤖 : 이별에 완전을 느끼나봐요 .\n",
      "\n",
      "🧑 : 니.. 내 누군지 아나? 으이?! \n",
      "🤖 : 찾아빌어요 .\n",
      "\n",
      "🧑 : 내가 이 섀꺄 느그 서장이랑 임마!! \n",
      "🤖 : 여행은 언제나 좋죠 .\n",
      "\n",
      "🧑 : 느그 서장, 남천동 살제? 으어?! \n",
      "🤖 : 고칠 점은 하지 않게 연락해보세요 .\n",
      "\n",
      "🧑 : 내가 인마 느그 서장이랑 인마! 어저께도! 같이 밥 묵고 으! \n",
      "🤖 : 원하던 만큼 땅을 찾아보세요 .\n",
      "\n",
      "🧑 : 싸우나도 같이 가고 으! 마 개이 새꺄 마 다했어! \n",
      "🤖 : 신경쓰이나봐요 .\n",
      "\n"
     ]
    }
   ],
   "source": [
    "범죄와의전쟁 = [\n",
    "    \"씨발롬이! 처돌았나?!\",\n",
    "    \"어데서 함부로 손을 놀리노! 느그 서장 어딨어?! 강 서장 대꼬와!!! \",\n",
    "    \"니.. 내 누군지 아나? 으이?! \",\n",
    "    \"내가 이 섀꺄 느그 서장이랑 임마!! \",\n",
    "    \"느그 서장, 남천동 살제? 으어?! \",\n",
    "    \"내가 인마 느그 서장이랑 인마! 어저께도! 같이 밥 묵고 으! \",\n",
    "    \"싸우나도 같이 가고 으! 마 개이 새꺄 마 다했어! \",\n",
    "]\n",
    "for s in 범죄와의전쟁:\n",
    "    sentence_generation(s)\n",
    "    print(\"\")"
   ]
  },
  {
   "cell_type": "markdown",
   "id": "dc0296a3",
   "metadata": {},
   "source": [
    "# 회고\n",
    "\n",
    "#### Q. Validation set을 왜 나누지 않았을까? 또한 Early stopping도 없다. \n",
    "\n",
    "A. 아마 데이터가 부족해서 나누지 않아서 그런 것 같다.\n",
    "\n",
    "\n",
    "#### 학습된 label이 `질문 -> 응답` 형태가 아니다 보니, 응답이 부자연스럽다. \n",
    "\n",
    "다만 ~하죠, ~세요와 같이 'A'에 자주 있는 어투로 대답을 잘하고 있다.\n",
    "\n",
    "\n",
    "#### 범죄와의 전쟁 최민식과 같이 무례한 말투에도, 따뜻하게 대답한다.\n",
    "\n",
    "#### df['A']의 말투를 따라서 비슷한 말투를 가진다.\n",
    "\n",
    "\n",
    "- [x] 배운 점 | 3가지 attention과 encoder-decoder의 세부 구조\n",
    "- [x] 아쉬운 점 | 해당 트랜스포머 모델을 잘 평가하는 척도를 더 알아보고 싶다.\n",
    "- [x] 느낀 점 | llm의 경우 특히 데이터가 중요하다. 데이터를 통해서 결국 어투도 완성되는 느낌이 크다.\n",
    "- [x] 어려웠던 점 | shape들을 매칭하는 것이 주석을 달지 않으면 좀 헷갈릴 때가 있다."
   ]
  },
  {
   "cell_type": "code",
   "execution_count": null,
   "id": "234adadb",
   "metadata": {},
   "outputs": [],
   "source": []
  }
 ],
 "metadata": {
  "kernelspec": {
   "display_name": "Python 3 (ipykernel)",
   "language": "python",
   "name": "python3"
  },
  "language_info": {
   "codemirror_mode": {
    "name": "ipython",
    "version": 3
   },
   "file_extension": ".py",
   "mimetype": "text/x-python",
   "name": "python",
   "nbconvert_exporter": "python",
   "pygments_lexer": "ipython3",
   "version": "3.9.7"
  }
 },
 "nbformat": 4,
 "nbformat_minor": 5
}
