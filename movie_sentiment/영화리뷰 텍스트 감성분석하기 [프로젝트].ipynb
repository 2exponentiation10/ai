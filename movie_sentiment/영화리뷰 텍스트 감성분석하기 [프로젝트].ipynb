{
 "cells": [
  {
   "cell_type": "code",
   "execution_count": 13,
   "id": "1c9b9897",
   "metadata": {},
   "outputs": [
    {
     "name": "stdout",
     "output_type": "stream",
     "text": [
      "1.3.3\n",
      "0.5.2\n",
      "4.1.2\n"
     ]
    }
   ],
   "source": [
    "# !ln -s ~/data/*.txt ~/aiffel/sentiment_classification/data\n",
    "import pandas\n",
    "import konlpy\n",
    "import gensim\n",
    "\n",
    "print(pandas.__version__)\n",
    "print(konlpy.__version__)\n",
    "print(gensim.__version__)"
   ]
  },
  {
   "cell_type": "code",
   "execution_count": 14,
   "id": "529ccdb7",
   "metadata": {},
   "outputs": [
    {
     "data": {
      "text/html": [
       "<div>\n",
       "<style scoped>\n",
       "    .dataframe tbody tr th:only-of-type {\n",
       "        vertical-align: middle;\n",
       "    }\n",
       "\n",
       "    .dataframe tbody tr th {\n",
       "        vertical-align: top;\n",
       "    }\n",
       "\n",
       "    .dataframe thead th {\n",
       "        text-align: right;\n",
       "    }\n",
       "</style>\n",
       "<table border=\"1\" class=\"dataframe\">\n",
       "  <thead>\n",
       "    <tr style=\"text-align: right;\">\n",
       "      <th></th>\n",
       "      <th>id</th>\n",
       "      <th>document</th>\n",
       "      <th>label</th>\n",
       "    </tr>\n",
       "  </thead>\n",
       "  <tbody>\n",
       "    <tr>\n",
       "      <th>0</th>\n",
       "      <td>9976970</td>\n",
       "      <td>아 더빙.. 진짜 짜증나네요 목소리</td>\n",
       "      <td>0</td>\n",
       "    </tr>\n",
       "    <tr>\n",
       "      <th>1</th>\n",
       "      <td>3819312</td>\n",
       "      <td>흠...포스터보고 초딩영화줄....오버연기조차 가볍지 않구나</td>\n",
       "      <td>1</td>\n",
       "    </tr>\n",
       "    <tr>\n",
       "      <th>2</th>\n",
       "      <td>10265843</td>\n",
       "      <td>너무재밓었다그래서보는것을추천한다</td>\n",
       "      <td>0</td>\n",
       "    </tr>\n",
       "    <tr>\n",
       "      <th>3</th>\n",
       "      <td>9045019</td>\n",
       "      <td>교도소 이야기구먼 ..솔직히 재미는 없다..평점 조정</td>\n",
       "      <td>0</td>\n",
       "    </tr>\n",
       "    <tr>\n",
       "      <th>4</th>\n",
       "      <td>6483659</td>\n",
       "      <td>사이몬페그의 익살스런 연기가 돋보였던 영화!스파이더맨에서 늙어보이기만 했던 커스틴 ...</td>\n",
       "      <td>1</td>\n",
       "    </tr>\n",
       "  </tbody>\n",
       "</table>\n",
       "</div>"
      ],
      "text/plain": [
       "         id                                           document  label\n",
       "0   9976970                                아 더빙.. 진짜 짜증나네요 목소리      0\n",
       "1   3819312                  흠...포스터보고 초딩영화줄....오버연기조차 가볍지 않구나      1\n",
       "2  10265843                                  너무재밓었다그래서보는것을추천한다      0\n",
       "3   9045019                      교도소 이야기구먼 ..솔직히 재미는 없다..평점 조정      0\n",
       "4   6483659  사이몬페그의 익살스런 연기가 돋보였던 영화!스파이더맨에서 늙어보이기만 했던 커스틴 ...      1"
      ]
     },
     "execution_count": 14,
     "metadata": {},
     "output_type": "execute_result"
    }
   ],
   "source": [
    "import pandas as pd\n",
    "\n",
    "# 데이터를 읽어봅시다. \n",
    "train_data = pd.read_table('~/aiffel/sentiment_classification/data/ratings_train.txt')\n",
    "test_data = pd.read_table('~/aiffel/sentiment_classification/data/ratings_test.txt')\n",
    "\n",
    "train_data.head()"
   ]
  },
  {
   "cell_type": "markdown",
   "id": "e7f98b15",
   "metadata": {},
   "source": [
    "- [ ] 데이터의 중복 제거\n",
    "- [ ] NaN 결측치 제거\n",
    "- [ ] 한국어 토크나이저로 토큰화\n",
    "- [ ] 불용어(Stopwords) 제거\n",
    "- [ ] 사전word_to_index 구성\n",
    "- [ ] 텍스트 스트링을 사전 인덱스 스트링으로 변환\n",
    "- [ ] X_train, y_train, X_test, y_test, word_to_index 리턴"
   ]
  },
  {
   "cell_type": "code",
   "execution_count": 48,
   "id": "347ce73d",
   "metadata": {},
   "outputs": [
    {
     "name": "stdout",
     "output_type": "stream",
     "text": [
      "drop_dup: 0\n",
      "drop_na: 0\n",
      "drop_dup: 0\n",
      "drop_na: 0\n"
     ]
    }
   ],
   "source": [
    "from konlpy.tag import Mecab\n",
    "import numpy as np\n",
    "from collections import Counter\n",
    "\n",
    "tokenizer = Mecab()\n",
    "stopwords = ['의','가','이','은','들','는','좀','잘','걍','과','도','를','으로','자','에','와','한','하다']\n",
    "vocab_size=10000\n",
    "\n",
    "def count_diff(func):\n",
    "    def wrapper(df):\n",
    "        before = len(df)\n",
    "        result = func(df)\n",
    "        after = len(df)\n",
    "        \n",
    "        print(f'{func.__name__}: {after - before}')\n",
    "        return result\n",
    "    return wrapper\n",
    "\n",
    "\n",
    "\n",
    "def load_data(train_data, test_data, num_words=vocab_size):\n",
    "    @count_diff\n",
    "    def drop_dup(df):\n",
    "        return df.drop_duplicates(subset=['document'])\n",
    "\n",
    "    @count_diff\n",
    "    def drop_na(df):\n",
    "        return df.dropna(how = 'any')\n",
    "\n",
    "      \n",
    "    train_data = drop_na(drop_dup(train_data))\n",
    "    test_data = drop_na(drop_dup(test_data))\n",
    "    \n",
    "    X_train = []\n",
    "    for sentence in train_data['document']:\n",
    "        temp_X = tokenizer.morphs(sentence) # 토큰화\n",
    "        temp_X = [word for word in temp_X if not word in stopwords] # 불용어 제거\n",
    "        X_train.append(temp_X)\n",
    "\n",
    "    X_test = []\n",
    "    for sentence in test_data['document']:\n",
    "        temp_X = tokenizer.morphs(sentence) # 토큰화\n",
    "        temp_X = [word for word in temp_X if not word in stopwords] # 불용어 제거\n",
    "        X_test.append(temp_X)\n",
    "    \n",
    "    words = np.concatenate(X_train).tolist()\n",
    "    counter = Counter(words)\n",
    "    counter = counter.most_common(10000-4)\n",
    "    vocab = ['<PAD>', '<BOS>', '<UNK>', '<UNUSED>'] + [key for key, _ in counter]\n",
    "    word_to_index = {word:index for index, word in enumerate(vocab)}\n",
    "        \n",
    "    def wordlist_to_indexlist(wordlist):\n",
    "        return [\n",
    "            word_to_index[word] if word in word_to_index else word_to_index['<UNK>'] \n",
    "            for word in wordlist\n",
    "        ]\n",
    "    \n",
    "    # TODO: 만약 UNK가 많이 있으면 어떻게 함?\n",
    "    X_train = list(map(wordlist_to_indexlist, X_train))\n",
    "    X_test = list(map(wordlist_to_indexlist, X_test))\n",
    "        \n",
    "    return X_train, np.array(list(train_data['label'])), X_test, np.array(list(test_data['label'])), word_to_index\n",
    "    \n",
    "X_train, y_train, X_test, y_test, word_to_index = load_data(train_data, test_data) "
   ]
  },
  {
   "cell_type": "code",
   "execution_count": 49,
   "id": "f2fe3562",
   "metadata": {},
   "outputs": [
    {
     "name": "stdout",
     "output_type": "stream",
     "text": [
      "3119447중에서 137148가 UNK이기 때문에 나중에 처리해줘야한다.\n"
     ]
    }
   ],
   "source": [
    "tokens = 0\n",
    "cnt = 0\n",
    "for row in X_train + X_test:\n",
    "    tokens += len(row)\n",
    "    cnt += row.count(word_to_index['<UNK>'])\n",
    "print(f'{tokens}중에서 {cnt}가 UNK이기 때문에 나중에 처리해줘야한다.')"
   ]
  },
  {
   "cell_type": "code",
   "execution_count": 50,
   "id": "47ed71c5",
   "metadata": {},
   "outputs": [
    {
     "name": "stdout",
     "output_type": "stream",
     "text": [
      "['<PAD>', '<BOS>', '<UNK>', '<UNUSED>']\n",
      "['<PAD>', '<BOS>', '<UNK>', '<UNUSED>']\n"
     ]
    }
   ],
   "source": [
    "index_to_word = {index:word for word, index in word_to_index.items()}\n",
    "\n",
    "print(list(word_to_index.keys())[:4])\n",
    "print(list(index_to_word.values())[:4])"
   ]
  },
  {
   "cell_type": "code",
   "execution_count": 51,
   "id": "17334bb3",
   "metadata": {},
   "outputs": [],
   "source": [
    "# 문장 1개를 활용할 딕셔너리와 함께 주면, 단어 인덱스 리스트 벡터로 변환해 주는 함수입니다. \n",
    "# 단, 모든 문장은 <BOS>로 시작하는 것으로 합니다. \n",
    "def get_encoded_sentence(sentence, word_to_index=word_to_index):\n",
    "    return [word_to_index['<BOS>']]+[word_to_index[word] if word in word_to_index else word_to_index['<UNK>'] for word in sentence.split()]\n",
    "\n",
    "# 여러 개의 문장 리스트를 한꺼번에 단어 인덱스 리스트 벡터로 encode해 주는 함수입니다. \n",
    "def get_encoded_sentences(sentences, word_to_index=word_to_index):\n",
    "    return [get_encoded_sentence(sentence, word_to_index) for sentence in sentences]\n",
    "\n",
    "# 숫자 벡터로 encode된 문장을 원래대로 decode하는 함수입니다. \n",
    "def get_decoded_sentence(encoded_sentence, index_to_word=index_to_word):\n",
    "    return ' '.join(index_to_word[index] if index in index_to_word else '<UNK>' for index in encoded_sentence[1:])  #[1:]를 통해 <BOS>를 제외\n",
    "\n",
    "# 여러 개의 숫자 벡터로 encode된 문장을 한꺼번에 원래대로 decode하는 함수입니다. \n",
    "def get_decoded_sentences(encoded_sentences, index_to_word=index_to_word):\n",
    "    return [get_decoded_sentence(encoded_sentence, index_to_word) for encoded_sentence in encoded_sentences]"
   ]
  },
  {
   "cell_type": "markdown",
   "id": "2875ebf1",
   "metadata": {},
   "source": [
    "#### 3) 모델 구성을 위한 데이터 분석 및 가공\n",
    "\n",
    "- 데이터셋 내 문장 길이 분포\n",
    "- 적절한 최대 문장 길이 지정\n",
    "- keras.preprocessing.sequence.pad_sequences 을 활용한 패딩 추가"
   ]
  },
  {
   "cell_type": "code",
   "execution_count": 52,
   "id": "b4e9255e",
   "metadata": {},
   "outputs": [
    {
     "name": "stdout",
     "output_type": "stream",
     "text": [
      "--[1]번째----\n",
      "원본: 아 더빙.. 진짜 짜증나네요 목소리\n",
      "전처리후: 더 빙 . . 진짜 짜증 나 네요 목소리\n",
      "--[2]번째----\n",
      "원본: 흠...포스터보고 초딩영화줄....오버연기조차 가볍지 않구나\n",
      "전처리후: . .. 포스터 보고 초딩 영화 줄 . ... 오버 연기 조차 가볍 지 않 구나\n",
      "--[3]번째----\n",
      "원본: 너무재밓었다그래서보는것을추천한다\n",
      "전처리후: 재 <UNK>\n",
      "--[4]번째----\n",
      "원본: 교도소 이야기구먼 ..솔직히 재미는 없다..평점 조정\n",
      "전처리후: 이야기 구먼 . . 솔직히 재미 없 다 . . 평점 조정\n",
      "--[5]번째----\n",
      "원본: 사이몬페그의 익살스런 연기가 돋보였던 영화!스파이더맨에서 늙어보이기만 했던 커스틴 던스트가 너무나도 이뻐보였다\n",
      "전처리후: 익살 스런 연기 돋보였 던 영화 ! 스파이더맨 에서 늙 어 보이 기 만 했 던 <UNK> <UNK> 너무나 이뻐 보였 다\n"
     ]
    }
   ],
   "source": [
    "for i in range(5):\n",
    "    print(f'--[{i+1}]번째----')    \n",
    "    print(f\"원본: {train_data['document'][i]}\")\n",
    "    print(f'전처리후: {get_decoded_sentence(X_train[i])}')"
   ]
  },
  {
   "cell_type": "code",
   "execution_count": 53,
   "id": "152af64c",
   "metadata": {},
   "outputs": [
    {
     "name": "stdout",
     "output_type": "stream",
     "text": [
      "Collecting rich\n",
      "  Downloading rich-13.7.1-py3-none-any.whl (240 kB)\n",
      "     |████████████████████████████████| 240 kB 5.2 MB/s            \n",
      "\u001b[?25hCollecting markdown-it-py>=2.2.0\n",
      "  Downloading markdown_it_py-3.0.0-py3-none-any.whl (87 kB)\n",
      "     |████████████████████████████████| 87 kB 10.6 MB/s            \n",
      "\u001b[?25hCollecting pygments<3.0.0,>=2.13.0\n",
      "  Downloading pygments-2.18.0-py3-none-any.whl (1.2 MB)\n",
      "     |████████████████████████████████| 1.2 MB 64.8 MB/s            \n",
      "\u001b[?25hCollecting mdurl~=0.1\n",
      "  Downloading mdurl-0.1.2-py3-none-any.whl (10.0 kB)\n",
      "Installing collected packages: mdurl, pygments, markdown-it-py, rich\n",
      "  Attempting uninstall: pygments\n",
      "    Found existing installation: Pygments 2.10.0\n",
      "    Uninstalling Pygments-2.10.0:\n",
      "      Successfully uninstalled Pygments-2.10.0\n",
      "Successfully installed markdown-it-py-3.0.0 mdurl-0.1.2 pygments-2.18.0 rich-13.7.1\n",
      "\u001b[33mWARNING: Running pip as the 'root' user can result in broken permissions and conflicting behaviour with the system package manager. It is recommended to use a virtual environment instead: https://pip.pypa.io/warnings/venv\u001b[0m\n"
     ]
    }
   ],
   "source": [
    "!pip install rich"
   ]
  },
  {
   "cell_type": "code",
   "execution_count": 54,
   "id": "bc4c6558",
   "metadata": {},
   "outputs": [],
   "source": [
    "import builtins\n",
    "import rich\n",
    "\n",
    "builtins.print = rich.print"
   ]
  },
  {
   "cell_type": "markdown",
   "id": "0cd37570",
   "metadata": {},
   "source": [
    "## 적절한 문장길이\n",
    "1. 평균길이+2X표준편차\n",
    "2. IQR"
   ]
  },
  {
   "cell_type": "code",
   "execution_count": 60,
   "id": "f201dce3",
   "metadata": {},
   "outputs": [
    {
     "data": {
      "text/html": [
       "<pre style=\"white-space:pre;overflow-x:auto;line-height:normal;font-family:Menlo,'DejaVu Sans Mono',consolas,'Courier New',monospace\"><span style=\"color: #008080; text-decoration-color: #008080; font-weight: bold\">15.96940191154864</span>\n",
       "</pre>\n"
      ],
      "text/plain": [
       "\u001b[1;36m15.96940191154864\u001b[0m\n"
      ]
     },
     "metadata": {},
     "output_type": "display_data"
    },
    {
     "data": {
      "text/html": [
       "<pre style=\"white-space:pre;overflow-x:auto;line-height:normal;font-family:Menlo,'DejaVu Sans Mono',consolas,'Courier New',monospace\"><span style=\"color: #008080; text-decoration-color: #008080; font-weight: bold\">116</span>\n",
       "</pre>\n"
      ],
      "text/plain": [
       "\u001b[1;36m116\u001b[0m\n"
      ]
     },
     "metadata": {},
     "output_type": "display_data"
    },
    {
     "data": {
      "text/html": [
       "<pre style=\"white-space:pre;overflow-x:auto;line-height:normal;font-family:Menlo,'DejaVu Sans Mono',consolas,'Courier New',monospace\"><span style=\"color: #008080; text-decoration-color: #008080; font-weight: bold\">12.843571191092</span>\n",
       "</pre>\n"
      ],
      "text/plain": [
       "\u001b[1;36m12.843571191092\u001b[0m\n"
      ]
     },
     "metadata": {},
     "output_type": "display_data"
    },
    {
     "data": {
      "image/png": "[encoded data removed]",
      "text/plain": [
       "<Figure size 720x432 with 1 Axes>"
      ]
     },
     "metadata": {
      "needs_background": "light"
     },
     "output_type": "display_data"
    }
   ],
   "source": [
    "import matplotlib.pyplot as plt\n",
    "\n",
    "num_tokens = np.array([len(s) for s in list(X_train) + list(X_test)])\n",
    "print(np.mean(num_tokens))\n",
    "print(np.max(num_tokens))\n",
    "print(np.std(num_tokens))\n",
    "\n",
    "\n",
    "plt.figure(figsize=(10, 6))\n",
    "plt.hist(num_tokens, bins=100, edgecolor='black')\n",
    "plt.title('Distribution of Token Lengths')\n",
    "plt.xlabel('Token Length')\n",
    "plt.ylabel('Frequency')\n",
    "plt.yscale('log')  # Use logarithmic scale for better visualization\n",
    "plt.grid(True)\n",
    "plt.show()\n",
    "\n",
    "# TODO: 이상치 제거"
   ]
  },
  {
   "cell_type": "code",
   "execution_count": 61,
   "id": "92e2433b",
   "metadata": {},
   "outputs": [
    {
     "data": {
      "text/html": [
       "<pre style=\"white-space:pre;overflow-x:auto;line-height:normal;font-family:Menlo,'DejaVu Sans Mono',consolas,'Courier New',monospace\">pad_sequences maxlen :  <span style=\"color: #008080; text-decoration-color: #008080; font-weight: bold\">41</span>\n",
       "</pre>\n"
      ],
      "text/plain": [
       "pad_sequences maxlen :  \u001b[1;36m41\u001b[0m\n"
      ]
     },
     "metadata": {},
     "output_type": "display_data"
    },
    {
     "data": {
      "text/html": [
       "<pre style=\"white-space:pre;overflow-x:auto;line-height:normal;font-family:Menlo,'DejaVu Sans Mono',consolas,'Courier New',monospace\">전체 문장의 <span style=\"color: #008080; text-decoration-color: #008080; font-weight: bold\">0.9342988343341575</span>%가 maxlen 설정값 이내에 포함됩니다. \n",
       "</pre>\n"
      ],
      "text/plain": [
       "전체 문장의 \u001b[1;36m0.9342988343341575\u001b[0m%가 maxlen 설정값 이내에 포함됩니다. \n"
      ]
     },
     "metadata": {},
     "output_type": "display_data"
    }
   ],
   "source": [
    "max_tokens = np.mean(num_tokens) + 2 * np.std(num_tokens)\n",
    "maxlen = int(max_tokens)\n",
    "print('pad_sequences maxlen : ', maxlen)\n",
    "print('전체 문장의 {}%가 maxlen 설정값 이내에 포함됩니다. '.format(np.sum(num_tokens < max_tokens) / len(num_tokens)))"
   ]
  },
  {
   "cell_type": "markdown",
   "id": "e018f1f2",
   "metadata": {},
   "source": [
    "## prepadding\n",
    "\n",
    "- Q. RNN 활용 시 pad_sequences의 padding 방식은 'post'와 'pre' 중 어느 것이 유리할까요?\n",
    "\n",
    "> 누군가의 설명: RNN은 입력데이터가 순차적으로 처리되어, 가장 마지막 입력이 최종 state 값에 가장 영향을 많이 미치게 됩니다. 그러므로 마지막 입력이 무의미한 padding으로 채워지는 것은 비효율적입니다. 따라서 'pre'가 훨씬 유리하며, 10% 이상의 테스트 성능 차이를 보이게 됩니다.\n",
    "\n",
    "> 내 생각: tanh가 중첩되면 vanishing이 일어난다. vanishing은 앞쪽이 더 영향을 받으니, 앞쪽에 의미없는 padding을 둔다. 위의 설명은 말이 안되는게 무의미한 padding인건 앞이든 뒤든 똑같은데 뭘 주장하는지 모르겠다.\n",
    "\n",
    "\n",
    "`pad_sequences(value=)` value는 padding value를 의미한다."
   ]
  },
  {
   "cell_type": "code",
   "execution_count": 66,
   "id": "630441ea",
   "metadata": {},
   "outputs": [
    {
     "data": {
      "text/html": [
       "<pre style=\"white-space:pre;overflow-x:auto;line-height:normal;font-family:Menlo,'DejaVu Sans Mono',consolas,'Courier New',monospace\"><span style=\"font-weight: bold\">(</span><span style=\"color: #008080; text-decoration-color: #008080; font-weight: bold\">146182</span>, <span style=\"color: #008080; text-decoration-color: #008080; font-weight: bold\">41</span><span style=\"font-weight: bold\">)</span>\n",
       "</pre>\n"
      ],
      "text/plain": [
       "\u001b[1m(\u001b[0m\u001b[1;36m146182\u001b[0m, \u001b[1;36m41\u001b[0m\u001b[1m)\u001b[0m\n"
      ]
     },
     "metadata": {},
     "output_type": "display_data"
    },
    {
     "data": {
      "text/html": [
       "<pre style=\"white-space:pre;overflow-x:auto;line-height:normal;font-family:Menlo,'DejaVu Sans Mono',consolas,'Courier New',monospace\"><span style=\"font-weight: bold\">(</span><span style=\"color: #008080; text-decoration-color: #008080; font-weight: bold\">49157</span>, <span style=\"color: #008080; text-decoration-color: #008080; font-weight: bold\">41</span><span style=\"font-weight: bold\">)</span>\n",
       "</pre>\n"
      ],
      "text/plain": [
       "\u001b[1m(\u001b[0m\u001b[1;36m49157\u001b[0m, \u001b[1;36m41\u001b[0m\u001b[1m)\u001b[0m\n"
      ]
     },
     "metadata": {},
     "output_type": "display_data"
    }
   ],
   "source": [
    "import tensorflow as tf\n",
    "from tensorflow import keras\n",
    "from tensorflow.keras.preprocessing.sequence import pad_sequences\n",
    "\n",
    "# TODO: test\n",
    "# 💡: padding은 앞쪽이 맞는 것 같고, trunc은 뒤쪽 없애는게 더 자연스러울 것 같다.\n",
    "\n",
    "padding = 'pre' # pre, post\n",
    "truncating = 'post' # pre, post\n",
    "\n",
    "\n",
    "X_train = tf.keras.preprocessing.sequence.pad_sequences(X_train,\n",
    "                                                        value=word_to_index[\"<PAD>\"],\n",
    "                                                        padding=padding,\n",
    "                                                        truncating=truncating,\n",
    "                                                        maxlen=maxlen)\n",
    "\n",
    "X_test = tf.keras.preprocessing.sequence.pad_sequences(X_test,\n",
    "                                                       value=word_to_index[\"<PAD>\"],\n",
    "                                                       padding=padding,\n",
    "                                                       truncating=truncating,\n",
    "                                                       maxlen=maxlen)\n",
    "\n",
    "print(X_train.shape)\n",
    "print(X_test.shape)"
   ]
  },
  {
   "cell_type": "markdown",
   "id": "cd5b864b",
   "metadata": {},
   "source": [
    "## 4) 모델 구성 및 validation set 구성\n",
    "\n",
    "모델은 3가지 이상 다양하게 구성하여 실험해 보세요."
   ]
  },
  {
   "cell_type": "code",
   "execution_count": 67,
   "id": "385c0b7a",
   "metadata": {},
   "outputs": [],
   "source": [
    "from sklearn.model_selection import train_test_split\n",
    "X_train, X_val, y_train, y_val = train_test_split(X_train, y_train, test_size=0.2, shuffle=True, random_state=34)"
   ]
  },
  {
   "cell_type": "code",
   "execution_count": 100,
   "id": "13edfc13",
   "metadata": {},
   "outputs": [],
   "source": [
    "from keras.callbacks import EarlyStopping\n",
    "\n",
    "vocab_size = 10000 # vocab_size 사실 위에 init\n",
    "word_vector_dim = 300  # 워드 벡터의 차원 수 \n",
    "callbacks = [\n",
    "    EarlyStopping(monitor='val_loss',mode='min',verbose=1,patience=10)\n",
    "]\n",
    "\n",
    "def LSTM(embeddings):\n",
    "    \n",
    "    model = keras.Sequential(\n",
    "        [\n",
    "            embeddings,\n",
    "            keras.layers.LSTM(512),\n",
    "            keras.layers.Dense(8, activation='relu'),\n",
    "            keras.layers.Dense(1, activation='sigmoid')\n",
    "        ]\n",
    "    )\n",
    "    print(model.summary())\n",
    "    model.compile(optimizer='adam',\n",
    "                  loss='binary_crossentropy',\n",
    "                  metrics=['accuracy'])\n",
    "    return model\n",
    "\n",
    "\n",
    "model = LSTM(tf.keras.layers.Embedding(vocab_size, word_vector_dim, input_shape=(None,)))\n",
    "history = model.fit(X_train,\n",
    "                    y_train,\n",
    "                    epochs=20,\n",
    "                    batch_size=512,\n",
    "                    callbacks=callbacks,\n",
    "                    validation_data=(X_val, y_val),\n",
    "                    verbose=1)\n",
    "results = model.evaluate(x_test,  y_test, verbose=2)\n",
    "\n",
    "\"\"\"\n",
    "1537/1537 - 5s - loss: 0.6865 - accuracy: 0.8439\n",
    "[0.6865183711051941, 0.8438879251480103]\n",
    "\"\"\"\n",
    "print(results)"
   ]
  },
  {
   "cell_type": "code",
   "execution_count": 73,
   "id": "28f706de",
   "metadata": {},
   "outputs": [
    {
     "data": {
      "image/png": "[encoded data removed]",
      "text/plain": [
       "<Figure size 432x288 with 1 Axes>"
      ]
     },
     "metadata": {
      "needs_background": "light"
     },
     "output_type": "display_data"
    }
   ],
   "source": [
    "def plot_history(history):\n",
    "    history_dict = history.history\n",
    "    \n",
    "    acc = history_dict['accuracy']\n",
    "    val_acc = history_dict['val_accuracy']\n",
    "    loss = history_dict['loss']\n",
    "    val_loss = history_dict['val_loss']\n",
    "\n",
    "    epochs = range(1, len(acc) + 1)\n",
    "\n",
    "    plt.clf()\n",
    "    plt.plot(epochs, loss, 'bo', label='Training loss')\n",
    "    plt.plot(epochs, val_loss, 'b', label='Validation loss')\n",
    "    plt.title('Training and validation loss')\n",
    "    plt.xlabel('Epochs')\n",
    "    plt.ylabel('Loss')\n",
    "    plt.legend()\n",
    "    plt.show()\n",
    "\n",
    "plot_history(history)"
   ]
  },
  {
   "cell_type": "code",
   "execution_count": 99,
   "id": "4b2c372f",
   "metadata": {},
   "outputs": [],
   "source": [
    "def CONV_1D(embeddings):\n",
    "    model = keras.Sequential(\n",
    "        [\n",
    "            embeddings,\n",
    "            tf.keras.layers.Conv1D(16, 7, activation='relu'),\n",
    "            tf.keras.layers.MaxPooling1D(5),\n",
    "            tf.keras.layers.Conv1D(16, 7, activation='relu'),\n",
    "            tf.keras.layers.GlobalMaxPooling1D(),\n",
    "            tf.keras.layers.Dense(8, activation='relu'),\n",
    "            tf.keras.layers.Dense(1, activation='sigmoid')\n",
    "        ]\n",
    "    )\n",
    "    print(model.summary())\n",
    "    model.compile(optimizer='adam',\n",
    "                  loss='binary_crossentropy',\n",
    "                  metrics=['accuracy'])\n",
    "    return model\n",
    "\n",
    "model = CONV_1D(tf.keras.layers.Embedding(vocab_size, word_vector_dim, input_shape=(None,)))\n",
    "history = model.fit(X_train,\n",
    "                    y_train,\n",
    "                    epochs=20,\n",
    "                    batch_size=512,\n",
    "                    callbacks=callbacks,\n",
    "                    validation_data=(X_val, y_val),\n",
    "                    verbose=1)\n",
    "\n",
    "\"\"\"\n",
    "1537/1537 - 3s - loss: 0.9672 - accuracy: 0.8263\n",
    "[0.9672241806983948, 0.8262912631034851]\n",
    "\"\"\"\n",
    "results = model.evaluate(x_test,  y_test, verbose=2)\n",
    "print(results)\n",
    "plot_history(history)"
   ]
  },
  {
   "cell_type": "code",
   "execution_count": 98,
   "id": "a47ae037",
   "metadata": {},
   "outputs": [],
   "source": [
    "def ONLY_MAX_POOLING(embeddings):\n",
    "    model = keras.Sequential(\n",
    "        [\n",
    "            embeddings,\n",
    "            tf.keras.layers.GlobalMaxPooling1D(),\n",
    "            tf.keras.layers.Dense(8, activation='relu'),\n",
    "            tf.keras.layers.Dense(1, activation='sigmoid'),\n",
    "        ]\n",
    "    )\n",
    "    print(model.summary())\n",
    "    model.compile(optimizer='adam',\n",
    "                  loss='binary_crossentropy',\n",
    "                  metrics=['accuracy'])\n",
    "    return model\n",
    "\n",
    "model = ONLY_MAX_POOLING(tf.keras.layers.Embedding(vocab_size, word_vector_dim, input_shape=(None,)))\n",
    "history = model.fit(X_train,\n",
    "                    y_train,\n",
    "                    epochs=20,\n",
    "                    batch_size=512,\n",
    "                    callbacks=callbacks,\n",
    "                    validation_data=(X_val, y_val),\n",
    "                    verbose=1)\n",
    "\n",
    "\"\"\"\n",
    "1537/1537 - 2s - loss: 0.6796 - accuracy: 0.8398\n",
    "[0.6795628070831299, 0.8398193717002869]\n",
    "\"\"\"\n",
    "results = model.evaluate(x_test,  y_test, verbose=2)\n",
    "print(results)\n",
    "plot_history(history)"
   ]
  },
  {
   "cell_type": "markdown",
   "id": "ddab3a95",
   "metadata": {},
   "source": [
    "## Word2Vec \n",
    "- 한국어 Word2Vec은 /data 폴더 안에 있는 word2vec_ko.model을 활용하세요.\n",
    "- 한국어 Word2Vec을 활용할 때는 load_word2vec_format() 형태가 아닌 load() 형태로 모델을 불러와주세요. 또한 모델을 활용할 때에는 아래 예시와 같이 .wv를 붙여서 활용합니다. 좀더 자세한 활용법에 대해선 다음 링크들을 참조해주세요. \n",
    "\n",
    "```py\n",
    "from gensim.models.keyedvectors import Word2VecKeyedVectors\n",
    "word_vectors = Word2VecKeyedVectors.load(word2vec_file_path)\n",
    "vector = word_vectors.wv['끝']\n",
    "```"
   ]
  },
  {
   "cell_type": "code",
   "execution_count": 85,
   "id": "acbd9618",
   "metadata": {},
   "outputs": [
    {
     "data": {
      "text/html": [
       "<pre style=\"white-space:pre;overflow-x:auto;line-height:normal;font-family:Menlo,'DejaVu Sans Mono',consolas,'Courier New',monospace\">GoogleNews-vectors-negative300.bin.gz  word2vec_ko.model\n",
       "ratings_test.txt                       word2vec_ko.model.trainables.syn1neg.npy\n",
       "ratings_train.txt                      word2vec_ko.model.wv.vectors.npy\n",
       "</pre>\n"
      ],
      "text/plain": [
       "GoogleNews-vectors-negative300.bin.gz  word2vec_ko.model\n",
       "ratings_test.txt                       word2vec_ko.model.trainables.syn1neg.npy\n",
       "ratings_train.txt                      word2vec_ko.model.wv.vectors.npy\n"
      ]
     },
     "metadata": {},
     "output_type": "display_data"
    }
   ],
   "source": [
    "!ls /aiffel/data"
   ]
  },
  {
   "cell_type": "code",
   "execution_count": null,
   "id": "99e478af",
   "metadata": {
    "scrolled": true
   },
   "outputs": [],
   "source": [
    "import os\n",
    "from gensim.models.keyedvectors import Word2VecKeyedVectors\n",
    "\n",
    "word2vec_path = os.getenv('HOME')+'/data/word2vec_ko.model'\n",
    "word2vec = Word2VecKeyedVectors.load(word2vec_path)\n",
    "print(word2vec.wv['클레멘타인'])"
   ]
  },
  {
   "cell_type": "code",
   "execution_count": 91,
   "id": "84c8bfa0",
   "metadata": {},
   "outputs": [
    {
     "data": {
      "text/plain": [
       "[('애나벨', 0.7087948322296143),\n",
       " ('헤이즐', 0.7083200812339783),\n",
       " ('워록', 0.7045043706893921),\n",
       " ('브로더릭', 0.6918909549713135),\n",
       " ('클룸', 0.6898564100265503),\n",
       " ('질런홀', 0.6832016706466675),\n",
       " ('Gwen', 0.6791983842849731),\n",
       " ('앳웰', 0.6785181164741516),\n",
       " ('스카페이스', 0.6774739623069763),\n",
       " ('버드맨', 0.6749832630157471)]"
      ]
     },
     "execution_count": 91,
     "metadata": {},
     "output_type": "execute_result"
    }
   ],
   "source": [
    "print(word2vec.wv.similar_by_word('클레멘타인'))"
   ]
  },
  {
   "cell_type": "code",
   "execution_count": 102,
   "id": "28eee014",
   "metadata": {},
   "outputs": [
    {
     "data": {
      "text/plain": [
       "(100,)"
      ]
     },
     "execution_count": 102,
     "metadata": {},
     "output_type": "execute_result"
    }
   ],
   "source": [
    "word2vec.wv['클레멘타인'].shape"
   ]
  },
  {
   "cell_type": "code",
   "execution_count": 107,
   "id": "dfdc504a",
   "metadata": {},
   "outputs": [],
   "source": [
    "from tensorflow.keras.initializers import Constant\n",
    "\n",
    "vocab_size = 10000\n",
    "word_vector_dim = 100\n",
    "embedding_matrix = np.random.rand(vocab_size, word_vector_dim)\n",
    "for i in range(4,vocab_size):\n",
    "    if index_to_word[i] in word2vec.wv:\n",
    "        embedding_matrix[i] = word2vec.wv[index_to_word[i]]\n",
    "\n",
    "# stateful so\n",
    "def get_w2v_embedding(vocab_size, word_vector_dim, embedding_matrix, maxlen):\n",
    "    return tf.keras.layers.Embedding(\n",
    "        vocab_size, \n",
    "        word_vector_dim, \n",
    "        embeddings_initializer=Constant(embedding_matrix),\n",
    "        input_length=maxlen, \n",
    "        trainable=True\n",
    "    )"
   ]
  },
  {
   "cell_type": "code",
   "execution_count": 115,
   "id": "4efcd3bb",
   "metadata": {},
   "outputs": [],
   "source": [
    "def do_experiment(\n",
    "    embeddings, \n",
    "    batch_size, \n",
    "    callbacks=callbacks, \n",
    "    X_train=X_train, \n",
    "    y_train=y_train, \n",
    "    validation_data=(X_val, y_val)\n",
    "):\n",
    "    models = (\n",
    "        ('LSTM', LSTM(embeddings)),\n",
    "        ('CONV', CONV_1D(embeddings)),\n",
    "        ('POOL', ONLY_MAX_POOLING(embeddings)),\n",
    "    )\n",
    "\n",
    "    results = {}\n",
    "    for key, model in models:    \n",
    "        history = model.fit(X_train,\n",
    "                            y_train,\n",
    "                            epochs=20,\n",
    "                            batch_size=batch_size,\n",
    "                            callbacks=callbacks,\n",
    "                            validation_data=validation_data,\n",
    "                            verbose=0)\n",
    "        results[key] = {\n",
    "            'history': history,\n",
    "            'result': model.evaluate(x_test,  y_test, verbose=2)\n",
    "        }\n",
    "    return results\n",
    "\n",
    "\n",
    "batch_size = 512\n",
    "embeddings = get_w2v_embedding(vocab_size, word_vector_dim, embedding_matrix, maxlen)\n",
    "results = do_experiment(embeddings, batch_size)"
   ]
  },
  {
   "cell_type": "code",
   "execution_count": 110,
   "id": "1411c4aa",
   "metadata": {
    "scrolled": true
   },
   "outputs": [
    {
     "data": {
      "image/png": "[encoded data removed]",
      "text/plain": [
       "<Figure size 432x288 with 1 Axes>"
      ]
     },
     "metadata": {
      "needs_background": "light"
     },
     "output_type": "display_data"
    },
    {
     "data": {
      "text/html": [
       "<pre style=\"white-space:pre;overflow-x:auto;line-height:normal;font-family:Menlo,'DejaVu Sans Mono',consolas,'Courier New',monospace\"><span style=\"font-weight: bold\">[</span><span style=\"color: #008080; text-decoration-color: #008080; font-weight: bold\">0.7266714572906494</span>, <span style=\"color: #008080; text-decoration-color: #008080; font-weight: bold\">0.8490550518035889</span><span style=\"font-weight: bold\">]</span>\n",
       "</pre>\n"
      ],
      "text/plain": [
       "\u001b[1m[\u001b[0m\u001b[1;36m0.7266714572906494\u001b[0m, \u001b[1;36m0.8490550518035889\u001b[0m\u001b[1m]\u001b[0m\n"
      ]
     },
     "metadata": {},
     "output_type": "display_data"
    }
   ],
   "source": [
    "plot_history(results['LSTM']['history'])\n",
    "print(results['LSTM']['result'])"
   ]
  },
  {
   "cell_type": "code",
   "execution_count": 111,
   "id": "edc7f3c3",
   "metadata": {},
   "outputs": [
    {
     "data": {
      "image/png": "[encoded data removed]",
      "text/plain": [
       "<Figure size 432x288 with 1 Axes>"
      ]
     },
     "metadata": {
      "needs_background": "light"
     },
     "output_type": "display_data"
    },
    {
     "data": {
      "text/html": [
       "<pre style=\"white-space:pre;overflow-x:auto;line-height:normal;font-family:Menlo,'DejaVu Sans Mono',consolas,'Courier New',monospace\"><span style=\"font-weight: bold\">[</span><span style=\"color: #008080; text-decoration-color: #008080; font-weight: bold\">0.5007306337356567</span>, <span style=\"color: #008080; text-decoration-color: #008080; font-weight: bold\">0.8278170228004456</span><span style=\"font-weight: bold\">]</span>\n",
       "</pre>\n"
      ],
      "text/plain": [
       "\u001b[1m[\u001b[0m\u001b[1;36m0.5007306337356567\u001b[0m, \u001b[1;36m0.8278170228004456\u001b[0m\u001b[1m]\u001b[0m\n"
      ]
     },
     "metadata": {},
     "output_type": "display_data"
    }
   ],
   "source": [
    "plot_history(results['CONV']['history'])\n",
    "print(results['CONV']['result'])"
   ]
  },
  {
   "cell_type": "code",
   "execution_count": 112,
   "id": "fc32945a",
   "metadata": {
    "scrolled": true
   },
   "outputs": [
    {
     "data": {
      "image/png": "[encoded data removed]",
      "text/plain": [
       "<Figure size 432x288 with 1 Axes>"
      ]
     },
     "metadata": {
      "needs_background": "light"
     },
     "output_type": "display_data"
    },
    {
     "data": {
      "text/html": [
       "<pre style=\"white-space:pre;overflow-x:auto;line-height:normal;font-family:Menlo,'DejaVu Sans Mono',consolas,'Courier New',monospace\"><span style=\"font-weight: bold\">[</span><span style=\"color: #008080; text-decoration-color: #008080; font-weight: bold\">0.4293563663959503</span>, <span style=\"color: #008080; text-decoration-color: #008080; font-weight: bold\">0.8038325905799866</span><span style=\"font-weight: bold\">]</span>\n",
       "</pre>\n"
      ],
      "text/plain": [
       "\u001b[1m[\u001b[0m\u001b[1;36m0.4293563663959503\u001b[0m, \u001b[1;36m0.8038325905799866\u001b[0m\u001b[1m]\u001b[0m\n"
      ]
     },
     "metadata": {},
     "output_type": "display_data"
    }
   ],
   "source": [
    "plot_history(results['POOL']['history'])\n",
    "print(results['POOL']['result'])"
   ]
  },
  {
   "cell_type": "markdown",
   "id": "c090e01a",
   "metadata": {},
   "source": [
    "> batch 사이즈 512일때는 3가지 모델 모두, 85%를 넘지 못하고 있다.\n",
    "\n",
    "이를 해결하기 위해서, batch_size를 줄여보자"
   ]
  },
  {
   "cell_type": "code",
   "execution_count": 117,
   "id": "0d009880",
   "metadata": {},
   "outputs": [
    {
     "data": {
      "text/html": [
       "<pre style=\"white-space:pre;overflow-x:auto;line-height:normal;font-family:Menlo,'DejaVu Sans Mono',consolas,'Courier New',monospace\">Model: <span style=\"color: #008000; text-decoration-color: #008000\">\"sequential_13\"</span>\n",
       "</pre>\n"
      ],
      "text/plain": [
       "Model: \u001b[32m\"sequential_13\"\u001b[0m\n"
      ]
     },
     "metadata": {},
     "output_type": "display_data"
    },
    {
     "data": {
      "text/html": [
       "<pre style=\"white-space:pre;overflow-x:auto;line-height:normal;font-family:Menlo,'DejaVu Sans Mono',consolas,'Courier New',monospace\">_________________________________________________________________\n",
       "</pre>\n"
      ],
      "text/plain": [
       "_________________________________________________________________\n"
      ]
     },
     "metadata": {},
     "output_type": "display_data"
    },
    {
     "data": {
      "text/html": [
       "<pre style=\"white-space:pre;overflow-x:auto;line-height:normal;font-family:Menlo,'DejaVu Sans Mono',consolas,'Courier New',monospace\">Layer <span style=\"font-weight: bold\">(</span>type<span style=\"font-weight: bold\">)</span>                 Output Shape              Param #   \n",
       "</pre>\n"
      ],
      "text/plain": [
       "Layer \u001b[1m(\u001b[0mtype\u001b[1m)\u001b[0m                 Output Shape              Param #   \n"
      ]
     },
     "metadata": {},
     "output_type": "display_data"
    },
    {
     "data": {
      "text/html": [
       "<pre style=\"white-space:pre;overflow-x:auto;line-height:normal;font-family:Menlo,'DejaVu Sans Mono',consolas,'Courier New',monospace\">=================================================================\n",
       "</pre>\n"
      ],
      "text/plain": [
       "=================================================================\n"
      ]
     },
     "metadata": {},
     "output_type": "display_data"
    },
    {
     "data": {
      "text/html": [
       "<pre style=\"white-space:pre;overflow-x:auto;line-height:normal;font-family:Menlo,'DejaVu Sans Mono',consolas,'Courier New',monospace\">embedding_16 <span style=\"font-weight: bold\">(</span>Embedding<span style=\"font-weight: bold\">)</span>     <span style=\"font-weight: bold\">(</span><span style=\"color: #800080; text-decoration-color: #800080; font-style: italic\">None</span>, <span style=\"color: #008080; text-decoration-color: #008080; font-weight: bold\">41</span>, <span style=\"color: #008080; text-decoration-color: #008080; font-weight: bold\">100</span><span style=\"font-weight: bold\">)</span>           <span style=\"color: #008080; text-decoration-color: #008080; font-weight: bold\">1000000</span>   \n",
       "</pre>\n"
      ],
      "text/plain": [
       "embedding_16 \u001b[1m(\u001b[0mEmbedding\u001b[1m)\u001b[0m     \u001b[1m(\u001b[0m\u001b[3;35mNone\u001b[0m, \u001b[1;36m41\u001b[0m, \u001b[1;36m100\u001b[0m\u001b[1m)\u001b[0m           \u001b[1;36m1000000\u001b[0m   \n"
      ]
     },
     "metadata": {},
     "output_type": "display_data"
    },
    {
     "data": {
      "text/html": [
       "<pre style=\"white-space:pre;overflow-x:auto;line-height:normal;font-family:Menlo,'DejaVu Sans Mono',consolas,'Courier New',monospace\">_________________________________________________________________\n",
       "</pre>\n"
      ],
      "text/plain": [
       "_________________________________________________________________\n"
      ]
     },
     "metadata": {},
     "output_type": "display_data"
    },
    {
     "data": {
      "text/html": [
       "<pre style=\"white-space:pre;overflow-x:auto;line-height:normal;font-family:Menlo,'DejaVu Sans Mono',consolas,'Courier New',monospace\">lstm_5 <span style=\"font-weight: bold\">(</span>LSTM<span style=\"font-weight: bold\">)</span>                <span style=\"font-weight: bold\">(</span><span style=\"color: #800080; text-decoration-color: #800080; font-style: italic\">None</span>, <span style=\"color: #008080; text-decoration-color: #008080; font-weight: bold\">512</span><span style=\"font-weight: bold\">)</span>               <span style=\"color: #008080; text-decoration-color: #008080; font-weight: bold\">1255424</span>   \n",
       "</pre>\n"
      ],
      "text/plain": [
       "lstm_5 \u001b[1m(\u001b[0mLSTM\u001b[1m)\u001b[0m                \u001b[1m(\u001b[0m\u001b[3;35mNone\u001b[0m, \u001b[1;36m512\u001b[0m\u001b[1m)\u001b[0m               \u001b[1;36m1255424\u001b[0m   \n"
      ]
     },
     "metadata": {},
     "output_type": "display_data"
    },
    {
     "data": {
      "text/html": [
       "<pre style=\"white-space:pre;overflow-x:auto;line-height:normal;font-family:Menlo,'DejaVu Sans Mono',consolas,'Courier New',monospace\">_________________________________________________________________\n",
       "</pre>\n"
      ],
      "text/plain": [
       "_________________________________________________________________\n"
      ]
     },
     "metadata": {},
     "output_type": "display_data"
    },
    {
     "data": {
      "text/html": [
       "<pre style=\"white-space:pre;overflow-x:auto;line-height:normal;font-family:Menlo,'DejaVu Sans Mono',consolas,'Courier New',monospace\">dense_26 <span style=\"font-weight: bold\">(</span>Dense<span style=\"font-weight: bold\">)</span>             <span style=\"font-weight: bold\">(</span><span style=\"color: #800080; text-decoration-color: #800080; font-style: italic\">None</span>, <span style=\"color: #008080; text-decoration-color: #008080; font-weight: bold\">8</span><span style=\"font-weight: bold\">)</span>                 <span style=\"color: #008080; text-decoration-color: #008080; font-weight: bold\">4104</span>      \n",
       "</pre>\n"
      ],
      "text/plain": [
       "dense_26 \u001b[1m(\u001b[0mDense\u001b[1m)\u001b[0m             \u001b[1m(\u001b[0m\u001b[3;35mNone\u001b[0m, \u001b[1;36m8\u001b[0m\u001b[1m)\u001b[0m                 \u001b[1;36m4104\u001b[0m      \n"
      ]
     },
     "metadata": {},
     "output_type": "display_data"
    },
    {
     "data": {
      "text/html": [
       "<pre style=\"white-space:pre;overflow-x:auto;line-height:normal;font-family:Menlo,'DejaVu Sans Mono',consolas,'Courier New',monospace\">_________________________________________________________________\n",
       "</pre>\n"
      ],
      "text/plain": [
       "_________________________________________________________________\n"
      ]
     },
     "metadata": {},
     "output_type": "display_data"
    },
    {
     "data": {
      "text/html": [
       "<pre style=\"white-space:pre;overflow-x:auto;line-height:normal;font-family:Menlo,'DejaVu Sans Mono',consolas,'Courier New',monospace\">dense_27 <span style=\"font-weight: bold\">(</span>Dense<span style=\"font-weight: bold\">)</span>             <span style=\"font-weight: bold\">(</span><span style=\"color: #800080; text-decoration-color: #800080; font-style: italic\">None</span>, <span style=\"color: #008080; text-decoration-color: #008080; font-weight: bold\">1</span><span style=\"font-weight: bold\">)</span>                 <span style=\"color: #008080; text-decoration-color: #008080; font-weight: bold\">9</span>         \n",
       "</pre>\n"
      ],
      "text/plain": [
       "dense_27 \u001b[1m(\u001b[0mDense\u001b[1m)\u001b[0m             \u001b[1m(\u001b[0m\u001b[3;35mNone\u001b[0m, \u001b[1;36m1\u001b[0m\u001b[1m)\u001b[0m                 \u001b[1;36m9\u001b[0m         \n"
      ]
     },
     "metadata": {},
     "output_type": "display_data"
    },
    {
     "data": {
      "text/html": [
       "<pre style=\"white-space:pre;overflow-x:auto;line-height:normal;font-family:Menlo,'DejaVu Sans Mono',consolas,'Courier New',monospace\">=================================================================\n",
       "</pre>\n"
      ],
      "text/plain": [
       "=================================================================\n"
      ]
     },
     "metadata": {},
     "output_type": "display_data"
    },
    {
     "data": {
      "text/html": [
       "<pre style=\"white-space:pre;overflow-x:auto;line-height:normal;font-family:Menlo,'DejaVu Sans Mono',consolas,'Courier New',monospace\">Total params: <span style=\"color: #008080; text-decoration-color: #008080; font-weight: bold\">2</span>,<span style=\"color: #008080; text-decoration-color: #008080; font-weight: bold\">259</span>,<span style=\"color: #008080; text-decoration-color: #008080; font-weight: bold\">537</span>\n",
       "</pre>\n"
      ],
      "text/plain": [
       "Total params: \u001b[1;36m2\u001b[0m,\u001b[1;36m259\u001b[0m,\u001b[1;36m537\u001b[0m\n"
      ]
     },
     "metadata": {},
     "output_type": "display_data"
    },
    {
     "data": {
      "text/html": [
       "<pre style=\"white-space:pre;overflow-x:auto;line-height:normal;font-family:Menlo,'DejaVu Sans Mono',consolas,'Courier New',monospace\">Trainable params: <span style=\"color: #008080; text-decoration-color: #008080; font-weight: bold\">2</span>,<span style=\"color: #008080; text-decoration-color: #008080; font-weight: bold\">259</span>,<span style=\"color: #008080; text-decoration-color: #008080; font-weight: bold\">537</span>\n",
       "</pre>\n"
      ],
      "text/plain": [
       "Trainable params: \u001b[1;36m2\u001b[0m,\u001b[1;36m259\u001b[0m,\u001b[1;36m537\u001b[0m\n"
      ]
     },
     "metadata": {},
     "output_type": "display_data"
    },
    {
     "data": {
      "text/html": [
       "<pre style=\"white-space:pre;overflow-x:auto;line-height:normal;font-family:Menlo,'DejaVu Sans Mono',consolas,'Courier New',monospace\">Non-trainable params: <span style=\"color: #008080; text-decoration-color: #008080; font-weight: bold\">0</span>\n",
       "</pre>\n"
      ],
      "text/plain": [
       "Non-trainable params: \u001b[1;36m0\u001b[0m\n"
      ]
     },
     "metadata": {},
     "output_type": "display_data"
    },
    {
     "data": {
      "text/html": [
       "<pre style=\"white-space:pre;overflow-x:auto;line-height:normal;font-family:Menlo,'DejaVu Sans Mono',consolas,'Courier New',monospace\">_________________________________________________________________\n",
       "</pre>\n"
      ],
      "text/plain": [
       "_________________________________________________________________\n"
      ]
     },
     "metadata": {},
     "output_type": "display_data"
    },
    {
     "data": {
      "text/html": [
       "<pre style=\"white-space:pre;overflow-x:auto;line-height:normal;font-family:Menlo,'DejaVu Sans Mono',consolas,'Courier New',monospace\"><span style=\"color: #800080; text-decoration-color: #800080; font-style: italic\">None</span>\n",
       "</pre>\n"
      ],
      "text/plain": [
       "\u001b[3;35mNone\u001b[0m\n"
      ]
     },
     "metadata": {},
     "output_type": "display_data"
    },
    {
     "data": {
      "text/html": [
       "<pre style=\"white-space:pre;overflow-x:auto;line-height:normal;font-family:Menlo,'DejaVu Sans Mono',consolas,'Courier New',monospace\">Model: <span style=\"color: #008000; text-decoration-color: #008000\">\"sequential_14\"</span>\n",
       "</pre>\n"
      ],
      "text/plain": [
       "Model: \u001b[32m\"sequential_14\"\u001b[0m\n"
      ]
     },
     "metadata": {},
     "output_type": "display_data"
    },
    {
     "data": {
      "text/html": [
       "<pre style=\"white-space:pre;overflow-x:auto;line-height:normal;font-family:Menlo,'DejaVu Sans Mono',consolas,'Courier New',monospace\">_________________________________________________________________\n",
       "</pre>\n"
      ],
      "text/plain": [
       "_________________________________________________________________\n"
      ]
     },
     "metadata": {},
     "output_type": "display_data"
    },
    {
     "data": {
      "text/html": [
       "<pre style=\"white-space:pre;overflow-x:auto;line-height:normal;font-family:Menlo,'DejaVu Sans Mono',consolas,'Courier New',monospace\">Layer <span style=\"font-weight: bold\">(</span>type<span style=\"font-weight: bold\">)</span>                 Output Shape              Param #   \n",
       "</pre>\n"
      ],
      "text/plain": [
       "Layer \u001b[1m(\u001b[0mtype\u001b[1m)\u001b[0m                 Output Shape              Param #   \n"
      ]
     },
     "metadata": {},
     "output_type": "display_data"
    },
    {
     "data": {
      "text/html": [
       "<pre style=\"white-space:pre;overflow-x:auto;line-height:normal;font-family:Menlo,'DejaVu Sans Mono',consolas,'Courier New',monospace\">=================================================================\n",
       "</pre>\n"
      ],
      "text/plain": [
       "=================================================================\n"
      ]
     },
     "metadata": {},
     "output_type": "display_data"
    },
    {
     "data": {
      "text/html": [
       "<pre style=\"white-space:pre;overflow-x:auto;line-height:normal;font-family:Menlo,'DejaVu Sans Mono',consolas,'Courier New',monospace\">embedding_16 <span style=\"font-weight: bold\">(</span>Embedding<span style=\"font-weight: bold\">)</span>     <span style=\"font-weight: bold\">(</span><span style=\"color: #800080; text-decoration-color: #800080; font-style: italic\">None</span>, <span style=\"color: #008080; text-decoration-color: #008080; font-weight: bold\">41</span>, <span style=\"color: #008080; text-decoration-color: #008080; font-weight: bold\">100</span><span style=\"font-weight: bold\">)</span>           <span style=\"color: #008080; text-decoration-color: #008080; font-weight: bold\">1000000</span>   \n",
       "</pre>\n"
      ],
      "text/plain": [
       "embedding_16 \u001b[1m(\u001b[0mEmbedding\u001b[1m)\u001b[0m     \u001b[1m(\u001b[0m\u001b[3;35mNone\u001b[0m, \u001b[1;36m41\u001b[0m, \u001b[1;36m100\u001b[0m\u001b[1m)\u001b[0m           \u001b[1;36m1000000\u001b[0m   \n"
      ]
     },
     "metadata": {},
     "output_type": "display_data"
    },
    {
     "data": {
      "text/html": [
       "<pre style=\"white-space:pre;overflow-x:auto;line-height:normal;font-family:Menlo,'DejaVu Sans Mono',consolas,'Courier New',monospace\">_________________________________________________________________\n",
       "</pre>\n"
      ],
      "text/plain": [
       "_________________________________________________________________\n"
      ]
     },
     "metadata": {},
     "output_type": "display_data"
    },
    {
     "data": {
      "text/html": [
       "<pre style=\"white-space:pre;overflow-x:auto;line-height:normal;font-family:Menlo,'DejaVu Sans Mono',consolas,'Courier New',monospace\">conv1d_8 <span style=\"font-weight: bold\">(</span>Conv1D<span style=\"font-weight: bold\">)</span>            <span style=\"font-weight: bold\">(</span><span style=\"color: #800080; text-decoration-color: #800080; font-style: italic\">None</span>, <span style=\"color: #008080; text-decoration-color: #008080; font-weight: bold\">35</span>, <span style=\"color: #008080; text-decoration-color: #008080; font-weight: bold\">16</span><span style=\"font-weight: bold\">)</span>            <span style=\"color: #008080; text-decoration-color: #008080; font-weight: bold\">11216</span>     \n",
       "</pre>\n"
      ],
      "text/plain": [
       "conv1d_8 \u001b[1m(\u001b[0mConv1D\u001b[1m)\u001b[0m            \u001b[1m(\u001b[0m\u001b[3;35mNone\u001b[0m, \u001b[1;36m35\u001b[0m, \u001b[1;36m16\u001b[0m\u001b[1m)\u001b[0m            \u001b[1;36m11216\u001b[0m     \n"
      ]
     },
     "metadata": {},
     "output_type": "display_data"
    },
    {
     "data": {
      "text/html": [
       "<pre style=\"white-space:pre;overflow-x:auto;line-height:normal;font-family:Menlo,'DejaVu Sans Mono',consolas,'Courier New',monospace\">_________________________________________________________________\n",
       "</pre>\n"
      ],
      "text/plain": [
       "_________________________________________________________________\n"
      ]
     },
     "metadata": {},
     "output_type": "display_data"
    },
    {
     "data": {
      "text/html": [
       "<pre style=\"white-space:pre;overflow-x:auto;line-height:normal;font-family:Menlo,'DejaVu Sans Mono',consolas,'Courier New',monospace\">max_pooling1d_4 <span style=\"font-weight: bold\">(</span>MaxPooling1 <span style=\"font-weight: bold\">(</span><span style=\"color: #800080; text-decoration-color: #800080; font-style: italic\">None</span>, <span style=\"color: #008080; text-decoration-color: #008080; font-weight: bold\">7</span>, <span style=\"color: #008080; text-decoration-color: #008080; font-weight: bold\">16</span><span style=\"font-weight: bold\">)</span>             <span style=\"color: #008080; text-decoration-color: #008080; font-weight: bold\">0</span>         \n",
       "</pre>\n"
      ],
      "text/plain": [
       "max_pooling1d_4 \u001b[1m(\u001b[0mMaxPooling1 \u001b[1m(\u001b[0m\u001b[3;35mNone\u001b[0m, \u001b[1;36m7\u001b[0m, \u001b[1;36m16\u001b[0m\u001b[1m)\u001b[0m             \u001b[1;36m0\u001b[0m         \n"
      ]
     },
     "metadata": {},
     "output_type": "display_data"
    },
    {
     "data": {
      "text/html": [
       "<pre style=\"white-space:pre;overflow-x:auto;line-height:normal;font-family:Menlo,'DejaVu Sans Mono',consolas,'Courier New',monospace\">_________________________________________________________________\n",
       "</pre>\n"
      ],
      "text/plain": [
       "_________________________________________________________________\n"
      ]
     },
     "metadata": {},
     "output_type": "display_data"
    },
    {
     "data": {
      "text/html": [
       "<pre style=\"white-space:pre;overflow-x:auto;line-height:normal;font-family:Menlo,'DejaVu Sans Mono',consolas,'Courier New',monospace\">conv1d_9 <span style=\"font-weight: bold\">(</span>Conv1D<span style=\"font-weight: bold\">)</span>            <span style=\"font-weight: bold\">(</span><span style=\"color: #800080; text-decoration-color: #800080; font-style: italic\">None</span>, <span style=\"color: #008080; text-decoration-color: #008080; font-weight: bold\">1</span>, <span style=\"color: #008080; text-decoration-color: #008080; font-weight: bold\">16</span><span style=\"font-weight: bold\">)</span>             <span style=\"color: #008080; text-decoration-color: #008080; font-weight: bold\">1808</span>      \n",
       "</pre>\n"
      ],
      "text/plain": [
       "conv1d_9 \u001b[1m(\u001b[0mConv1D\u001b[1m)\u001b[0m            \u001b[1m(\u001b[0m\u001b[3;35mNone\u001b[0m, \u001b[1;36m1\u001b[0m, \u001b[1;36m16\u001b[0m\u001b[1m)\u001b[0m             \u001b[1;36m1808\u001b[0m      \n"
      ]
     },
     "metadata": {},
     "output_type": "display_data"
    },
    {
     "data": {
      "text/html": [
       "<pre style=\"white-space:pre;overflow-x:auto;line-height:normal;font-family:Menlo,'DejaVu Sans Mono',consolas,'Courier New',monospace\">_________________________________________________________________\n",
       "</pre>\n"
      ],
      "text/plain": [
       "_________________________________________________________________\n"
      ]
     },
     "metadata": {},
     "output_type": "display_data"
    },
    {
     "data": {
      "text/html": [
       "<pre style=\"white-space:pre;overflow-x:auto;line-height:normal;font-family:Menlo,'DejaVu Sans Mono',consolas,'Courier New',monospace\">global_max_pooling1d_8 <span style=\"font-weight: bold\">(</span>Glob <span style=\"font-weight: bold\">(</span><span style=\"color: #800080; text-decoration-color: #800080; font-style: italic\">None</span>, <span style=\"color: #008080; text-decoration-color: #008080; font-weight: bold\">16</span><span style=\"font-weight: bold\">)</span>                <span style=\"color: #008080; text-decoration-color: #008080; font-weight: bold\">0</span>         \n",
       "</pre>\n"
      ],
      "text/plain": [
       "global_max_pooling1d_8 \u001b[1m(\u001b[0mGlob \u001b[1m(\u001b[0m\u001b[3;35mNone\u001b[0m, \u001b[1;36m16\u001b[0m\u001b[1m)\u001b[0m                \u001b[1;36m0\u001b[0m         \n"
      ]
     },
     "metadata": {},
     "output_type": "display_data"
    },
    {
     "data": {
      "text/html": [
       "<pre style=\"white-space:pre;overflow-x:auto;line-height:normal;font-family:Menlo,'DejaVu Sans Mono',consolas,'Courier New',monospace\">_________________________________________________________________\n",
       "</pre>\n"
      ],
      "text/plain": [
       "_________________________________________________________________\n"
      ]
     },
     "metadata": {},
     "output_type": "display_data"
    },
    {
     "data": {
      "text/html": [
       "<pre style=\"white-space:pre;overflow-x:auto;line-height:normal;font-family:Menlo,'DejaVu Sans Mono',consolas,'Courier New',monospace\">dense_28 <span style=\"font-weight: bold\">(</span>Dense<span style=\"font-weight: bold\">)</span>             <span style=\"font-weight: bold\">(</span><span style=\"color: #800080; text-decoration-color: #800080; font-style: italic\">None</span>, <span style=\"color: #008080; text-decoration-color: #008080; font-weight: bold\">8</span><span style=\"font-weight: bold\">)</span>                 <span style=\"color: #008080; text-decoration-color: #008080; font-weight: bold\">136</span>       \n",
       "</pre>\n"
      ],
      "text/plain": [
       "dense_28 \u001b[1m(\u001b[0mDense\u001b[1m)\u001b[0m             \u001b[1m(\u001b[0m\u001b[3;35mNone\u001b[0m, \u001b[1;36m8\u001b[0m\u001b[1m)\u001b[0m                 \u001b[1;36m136\u001b[0m       \n"
      ]
     },
     "metadata": {},
     "output_type": "display_data"
    },
    {
     "data": {
      "text/html": [
       "<pre style=\"white-space:pre;overflow-x:auto;line-height:normal;font-family:Menlo,'DejaVu Sans Mono',consolas,'Courier New',monospace\">_________________________________________________________________\n",
       "</pre>\n"
      ],
      "text/plain": [
       "_________________________________________________________________\n"
      ]
     },
     "metadata": {},
     "output_type": "display_data"
    },
    {
     "data": {
      "text/html": [
       "<pre style=\"white-space:pre;overflow-x:auto;line-height:normal;font-family:Menlo,'DejaVu Sans Mono',consolas,'Courier New',monospace\">dense_29 <span style=\"font-weight: bold\">(</span>Dense<span style=\"font-weight: bold\">)</span>             <span style=\"font-weight: bold\">(</span><span style=\"color: #800080; text-decoration-color: #800080; font-style: italic\">None</span>, <span style=\"color: #008080; text-decoration-color: #008080; font-weight: bold\">1</span><span style=\"font-weight: bold\">)</span>                 <span style=\"color: #008080; text-decoration-color: #008080; font-weight: bold\">9</span>         \n",
       "</pre>\n"
      ],
      "text/plain": [
       "dense_29 \u001b[1m(\u001b[0mDense\u001b[1m)\u001b[0m             \u001b[1m(\u001b[0m\u001b[3;35mNone\u001b[0m, \u001b[1;36m1\u001b[0m\u001b[1m)\u001b[0m                 \u001b[1;36m9\u001b[0m         \n"
      ]
     },
     "metadata": {},
     "output_type": "display_data"
    },
    {
     "data": {
      "text/html": [
       "<pre style=\"white-space:pre;overflow-x:auto;line-height:normal;font-family:Menlo,'DejaVu Sans Mono',consolas,'Courier New',monospace\">=================================================================\n",
       "</pre>\n"
      ],
      "text/plain": [
       "=================================================================\n"
      ]
     },
     "metadata": {},
     "output_type": "display_data"
    },
    {
     "data": {
      "text/html": [
       "<pre style=\"white-space:pre;overflow-x:auto;line-height:normal;font-family:Menlo,'DejaVu Sans Mono',consolas,'Courier New',monospace\">Total params: <span style=\"color: #008080; text-decoration-color: #008080; font-weight: bold\">1</span>,<span style=\"color: #008080; text-decoration-color: #008080; font-weight: bold\">013</span>,<span style=\"color: #008080; text-decoration-color: #008080; font-weight: bold\">169</span>\n",
       "</pre>\n"
      ],
      "text/plain": [
       "Total params: \u001b[1;36m1\u001b[0m,\u001b[1;36m013\u001b[0m,\u001b[1;36m169\u001b[0m\n"
      ]
     },
     "metadata": {},
     "output_type": "display_data"
    },
    {
     "data": {
      "text/html": [
       "<pre style=\"white-space:pre;overflow-x:auto;line-height:normal;font-family:Menlo,'DejaVu Sans Mono',consolas,'Courier New',monospace\">Trainable params: <span style=\"color: #008080; text-decoration-color: #008080; font-weight: bold\">1</span>,<span style=\"color: #008080; text-decoration-color: #008080; font-weight: bold\">013</span>,<span style=\"color: #008080; text-decoration-color: #008080; font-weight: bold\">169</span>\n",
       "</pre>\n"
      ],
      "text/plain": [
       "Trainable params: \u001b[1;36m1\u001b[0m,\u001b[1;36m013\u001b[0m,\u001b[1;36m169\u001b[0m\n"
      ]
     },
     "metadata": {},
     "output_type": "display_data"
    },
    {
     "data": {
      "text/html": [
       "<pre style=\"white-space:pre;overflow-x:auto;line-height:normal;font-family:Menlo,'DejaVu Sans Mono',consolas,'Courier New',monospace\">Non-trainable params: <span style=\"color: #008080; text-decoration-color: #008080; font-weight: bold\">0</span>\n",
       "</pre>\n"
      ],
      "text/plain": [
       "Non-trainable params: \u001b[1;36m0\u001b[0m\n"
      ]
     },
     "metadata": {},
     "output_type": "display_data"
    },
    {
     "data": {
      "text/html": [
       "<pre style=\"white-space:pre;overflow-x:auto;line-height:normal;font-family:Menlo,'DejaVu Sans Mono',consolas,'Courier New',monospace\">_________________________________________________________________\n",
       "</pre>\n"
      ],
      "text/plain": [
       "_________________________________________________________________\n"
      ]
     },
     "metadata": {},
     "output_type": "display_data"
    },
    {
     "data": {
      "text/html": [
       "<pre style=\"white-space:pre;overflow-x:auto;line-height:normal;font-family:Menlo,'DejaVu Sans Mono',consolas,'Courier New',monospace\"><span style=\"color: #800080; text-decoration-color: #800080; font-style: italic\">None</span>\n",
       "</pre>\n"
      ],
      "text/plain": [
       "\u001b[3;35mNone\u001b[0m\n"
      ]
     },
     "metadata": {},
     "output_type": "display_data"
    },
    {
     "data": {
      "text/html": [
       "<pre style=\"white-space:pre;overflow-x:auto;line-height:normal;font-family:Menlo,'DejaVu Sans Mono',consolas,'Courier New',monospace\">Model: <span style=\"color: #008000; text-decoration-color: #008000\">\"sequential_15\"</span>\n",
       "</pre>\n"
      ],
      "text/plain": [
       "Model: \u001b[32m\"sequential_15\"\u001b[0m\n"
      ]
     },
     "metadata": {},
     "output_type": "display_data"
    },
    {
     "data": {
      "text/html": [
       "<pre style=\"white-space:pre;overflow-x:auto;line-height:normal;font-family:Menlo,'DejaVu Sans Mono',consolas,'Courier New',monospace\">_________________________________________________________________\n",
       "</pre>\n"
      ],
      "text/plain": [
       "_________________________________________________________________\n"
      ]
     },
     "metadata": {},
     "output_type": "display_data"
    },
    {
     "data": {
      "text/html": [
       "<pre style=\"white-space:pre;overflow-x:auto;line-height:normal;font-family:Menlo,'DejaVu Sans Mono',consolas,'Courier New',monospace\">Layer <span style=\"font-weight: bold\">(</span>type<span style=\"font-weight: bold\">)</span>                 Output Shape              Param #   \n",
       "</pre>\n"
      ],
      "text/plain": [
       "Layer \u001b[1m(\u001b[0mtype\u001b[1m)\u001b[0m                 Output Shape              Param #   \n"
      ]
     },
     "metadata": {},
     "output_type": "display_data"
    },
    {
     "data": {
      "text/html": [
       "<pre style=\"white-space:pre;overflow-x:auto;line-height:normal;font-family:Menlo,'DejaVu Sans Mono',consolas,'Courier New',monospace\">=================================================================\n",
       "</pre>\n"
      ],
      "text/plain": [
       "=================================================================\n"
      ]
     },
     "metadata": {},
     "output_type": "display_data"
    },
    {
     "data": {
      "text/html": [
       "<pre style=\"white-space:pre;overflow-x:auto;line-height:normal;font-family:Menlo,'DejaVu Sans Mono',consolas,'Courier New',monospace\">embedding_16 <span style=\"font-weight: bold\">(</span>Embedding<span style=\"font-weight: bold\">)</span>     <span style=\"font-weight: bold\">(</span><span style=\"color: #800080; text-decoration-color: #800080; font-style: italic\">None</span>, <span style=\"color: #008080; text-decoration-color: #008080; font-weight: bold\">41</span>, <span style=\"color: #008080; text-decoration-color: #008080; font-weight: bold\">100</span><span style=\"font-weight: bold\">)</span>           <span style=\"color: #008080; text-decoration-color: #008080; font-weight: bold\">1000000</span>   \n",
       "</pre>\n"
      ],
      "text/plain": [
       "embedding_16 \u001b[1m(\u001b[0mEmbedding\u001b[1m)\u001b[0m     \u001b[1m(\u001b[0m\u001b[3;35mNone\u001b[0m, \u001b[1;36m41\u001b[0m, \u001b[1;36m100\u001b[0m\u001b[1m)\u001b[0m           \u001b[1;36m1000000\u001b[0m   \n"
      ]
     },
     "metadata": {},
     "output_type": "display_data"
    },
    {
     "data": {
      "text/html": [
       "<pre style=\"white-space:pre;overflow-x:auto;line-height:normal;font-family:Menlo,'DejaVu Sans Mono',consolas,'Courier New',monospace\">_________________________________________________________________\n",
       "</pre>\n"
      ],
      "text/plain": [
       "_________________________________________________________________\n"
      ]
     },
     "metadata": {},
     "output_type": "display_data"
    },
    {
     "data": {
      "text/html": [
       "<pre style=\"white-space:pre;overflow-x:auto;line-height:normal;font-family:Menlo,'DejaVu Sans Mono',consolas,'Courier New',monospace\">global_max_pooling1d_9 <span style=\"font-weight: bold\">(</span>Glob <span style=\"font-weight: bold\">(</span><span style=\"color: #800080; text-decoration-color: #800080; font-style: italic\">None</span>, <span style=\"color: #008080; text-decoration-color: #008080; font-weight: bold\">100</span><span style=\"font-weight: bold\">)</span>               <span style=\"color: #008080; text-decoration-color: #008080; font-weight: bold\">0</span>         \n",
       "</pre>\n"
      ],
      "text/plain": [
       "global_max_pooling1d_9 \u001b[1m(\u001b[0mGlob \u001b[1m(\u001b[0m\u001b[3;35mNone\u001b[0m, \u001b[1;36m100\u001b[0m\u001b[1m)\u001b[0m               \u001b[1;36m0\u001b[0m         \n"
      ]
     },
     "metadata": {},
     "output_type": "display_data"
    },
    {
     "data": {
      "text/html": [
       "<pre style=\"white-space:pre;overflow-x:auto;line-height:normal;font-family:Menlo,'DejaVu Sans Mono',consolas,'Courier New',monospace\">_________________________________________________________________\n",
       "</pre>\n"
      ],
      "text/plain": [
       "_________________________________________________________________\n"
      ]
     },
     "metadata": {},
     "output_type": "display_data"
    },
    {
     "data": {
      "text/html": [
       "<pre style=\"white-space:pre;overflow-x:auto;line-height:normal;font-family:Menlo,'DejaVu Sans Mono',consolas,'Courier New',monospace\">dense_30 <span style=\"font-weight: bold\">(</span>Dense<span style=\"font-weight: bold\">)</span>             <span style=\"font-weight: bold\">(</span><span style=\"color: #800080; text-decoration-color: #800080; font-style: italic\">None</span>, <span style=\"color: #008080; text-decoration-color: #008080; font-weight: bold\">8</span><span style=\"font-weight: bold\">)</span>                 <span style=\"color: #008080; text-decoration-color: #008080; font-weight: bold\">808</span>       \n",
       "</pre>\n"
      ],
      "text/plain": [
       "dense_30 \u001b[1m(\u001b[0mDense\u001b[1m)\u001b[0m             \u001b[1m(\u001b[0m\u001b[3;35mNone\u001b[0m, \u001b[1;36m8\u001b[0m\u001b[1m)\u001b[0m                 \u001b[1;36m808\u001b[0m       \n"
      ]
     },
     "metadata": {},
     "output_type": "display_data"
    },
    {
     "data": {
      "text/html": [
       "<pre style=\"white-space:pre;overflow-x:auto;line-height:normal;font-family:Menlo,'DejaVu Sans Mono',consolas,'Courier New',monospace\">_________________________________________________________________\n",
       "</pre>\n"
      ],
      "text/plain": [
       "_________________________________________________________________\n"
      ]
     },
     "metadata": {},
     "output_type": "display_data"
    },
    {
     "data": {
      "text/html": [
       "<pre style=\"white-space:pre;overflow-x:auto;line-height:normal;font-family:Menlo,'DejaVu Sans Mono',consolas,'Courier New',monospace\">dense_31 <span style=\"font-weight: bold\">(</span>Dense<span style=\"font-weight: bold\">)</span>             <span style=\"font-weight: bold\">(</span><span style=\"color: #800080; text-decoration-color: #800080; font-style: italic\">None</span>, <span style=\"color: #008080; text-decoration-color: #008080; font-weight: bold\">1</span><span style=\"font-weight: bold\">)</span>                 <span style=\"color: #008080; text-decoration-color: #008080; font-weight: bold\">9</span>         \n",
       "</pre>\n"
      ],
      "text/plain": [
       "dense_31 \u001b[1m(\u001b[0mDense\u001b[1m)\u001b[0m             \u001b[1m(\u001b[0m\u001b[3;35mNone\u001b[0m, \u001b[1;36m1\u001b[0m\u001b[1m)\u001b[0m                 \u001b[1;36m9\u001b[0m         \n"
      ]
     },
     "metadata": {},
     "output_type": "display_data"
    },
    {
     "data": {
      "text/html": [
       "<pre style=\"white-space:pre;overflow-x:auto;line-height:normal;font-family:Menlo,'DejaVu Sans Mono',consolas,'Courier New',monospace\">=================================================================\n",
       "</pre>\n"
      ],
      "text/plain": [
       "=================================================================\n"
      ]
     },
     "metadata": {},
     "output_type": "display_data"
    },
    {
     "data": {
      "text/html": [
       "<pre style=\"white-space:pre;overflow-x:auto;line-height:normal;font-family:Menlo,'DejaVu Sans Mono',consolas,'Courier New',monospace\">Total params: <span style=\"color: #008080; text-decoration-color: #008080; font-weight: bold\">1</span>,<span style=\"color: #008080; text-decoration-color: #008080; font-weight: bold\">000</span>,<span style=\"color: #008080; text-decoration-color: #008080; font-weight: bold\">817</span>\n",
       "</pre>\n"
      ],
      "text/plain": [
       "Total params: \u001b[1;36m1\u001b[0m,\u001b[1;36m000\u001b[0m,\u001b[1;36m817\u001b[0m\n"
      ]
     },
     "metadata": {},
     "output_type": "display_data"
    },
    {
     "data": {
      "text/html": [
       "<pre style=\"white-space:pre;overflow-x:auto;line-height:normal;font-family:Menlo,'DejaVu Sans Mono',consolas,'Courier New',monospace\">Trainable params: <span style=\"color: #008080; text-decoration-color: #008080; font-weight: bold\">1</span>,<span style=\"color: #008080; text-decoration-color: #008080; font-weight: bold\">000</span>,<span style=\"color: #008080; text-decoration-color: #008080; font-weight: bold\">817</span>\n",
       "</pre>\n"
      ],
      "text/plain": [
       "Trainable params: \u001b[1;36m1\u001b[0m,\u001b[1;36m000\u001b[0m,\u001b[1;36m817\u001b[0m\n"
      ]
     },
     "metadata": {},
     "output_type": "display_data"
    },
    {
     "data": {
      "text/html": [
       "<pre style=\"white-space:pre;overflow-x:auto;line-height:normal;font-family:Menlo,'DejaVu Sans Mono',consolas,'Courier New',monospace\">Non-trainable params: <span style=\"color: #008080; text-decoration-color: #008080; font-weight: bold\">0</span>\n",
       "</pre>\n"
      ],
      "text/plain": [
       "Non-trainable params: \u001b[1;36m0\u001b[0m\n"
      ]
     },
     "metadata": {},
     "output_type": "display_data"
    },
    {
     "data": {
      "text/html": [
       "<pre style=\"white-space:pre;overflow-x:auto;line-height:normal;font-family:Menlo,'DejaVu Sans Mono',consolas,'Courier New',monospace\">_________________________________________________________________\n",
       "</pre>\n"
      ],
      "text/plain": [
       "_________________________________________________________________\n"
      ]
     },
     "metadata": {},
     "output_type": "display_data"
    },
    {
     "data": {
      "text/html": [
       "<pre style=\"white-space:pre;overflow-x:auto;line-height:normal;font-family:Menlo,'DejaVu Sans Mono',consolas,'Courier New',monospace\"><span style=\"color: #800080; text-decoration-color: #800080; font-style: italic\">None</span>\n",
       "</pre>\n"
      ],
      "text/plain": [
       "\u001b[3;35mNone\u001b[0m\n"
      ]
     },
     "metadata": {},
     "output_type": "display_data"
    },
    {
     "data": {
      "text/html": [
       "<pre style=\"white-space:pre;overflow-x:auto;line-height:normal;font-family:Menlo,'DejaVu Sans Mono',consolas,'Courier New',monospace\">Epoch <span style=\"color: #008080; text-decoration-color: #008080; font-weight: bold\">00013</span>: early stopping\n",
       "</pre>\n"
      ],
      "text/plain": [
       "Epoch \u001b[1;36m00013\u001b[0m: early stopping\n"
      ]
     },
     "metadata": {},
     "output_type": "display_data"
    },
    {
     "name": "stdout",
     "output_type": "stream",
     "text": [
      "1537/1537 - 5s - loss: 0.7648 - accuracy: 0.8565\n"
     ]
    },
    {
     "data": {
      "text/html": [
       "<pre style=\"white-space:pre;overflow-x:auto;line-height:normal;font-family:Menlo,'DejaVu Sans Mono',consolas,'Courier New',monospace\">Epoch <span style=\"color: #008080; text-decoration-color: #008080; font-weight: bold\">00014</span>: early stopping\n",
       "</pre>\n"
      ],
      "text/plain": [
       "Epoch \u001b[1;36m00014\u001b[0m: early stopping\n"
      ]
     },
     "metadata": {},
     "output_type": "display_data"
    },
    {
     "name": "stdout",
     "output_type": "stream",
     "text": [
      "1537/1537 - 3s - loss: 0.4931 - accuracy: 0.8369\n",
      "1537/1537 - 2s - loss: 0.4114 - accuracy: 0.8201\n"
     ]
    }
   ],
   "source": [
    "batch_size = 256\n",
    "embeddings = get_w2v_embedding(vocab_size, word_vector_dim, embedding_matrix, maxlen)\n",
    "results = do_experiment(embeddings, batch_size)"
   ]
  },
  {
   "cell_type": "code",
   "execution_count": 118,
   "id": "c6352741",
   "metadata": {},
   "outputs": [
    {
     "data": {
      "image/png": "[encoded data removed]",
      "text/plain": [
       "<Figure size 432x288 with 1 Axes>"
      ]
     },
     "metadata": {
      "needs_background": "light"
     },
     "output_type": "display_data"
    },
    {
     "data": {
      "text/html": [
       "<pre style=\"white-space:pre;overflow-x:auto;line-height:normal;font-family:Menlo,'DejaVu Sans Mono',consolas,'Courier New',monospace\"><span style=\"font-weight: bold\">[</span><span style=\"color: #008080; text-decoration-color: #008080; font-weight: bold\">0.7648211121559143</span>, <span style=\"color: #008080; text-decoration-color: #008080; font-weight: bold\">0.85652095079422</span><span style=\"font-weight: bold\">]</span>\n",
       "</pre>\n"
      ],
      "text/plain": [
       "\u001b[1m[\u001b[0m\u001b[1;36m0.7648211121559143\u001b[0m, \u001b[1;36m0.85652095079422\u001b[0m\u001b[1m]\u001b[0m\n"
      ]
     },
     "metadata": {},
     "output_type": "display_data"
    }
   ],
   "source": [
    "plot_history(results['LSTM']['history'])\n",
    "print(results['LSTM']['result'])"
   ]
  },
  {
   "cell_type": "code",
   "execution_count": 119,
   "id": "dbc8c393",
   "metadata": {},
   "outputs": [
    {
     "data": {
      "image/png": "[encoded data removed]",
      "text/plain": [
       "<Figure size 432x288 with 1 Axes>"
      ]
     },
     "metadata": {
      "needs_background": "light"
     },
     "output_type": "display_data"
    },
    {
     "data": {
      "text/html": [
       "<pre style=\"white-space:pre;overflow-x:auto;line-height:normal;font-family:Menlo,'DejaVu Sans Mono',consolas,'Courier New',monospace\"><span style=\"font-weight: bold\">[</span><span style=\"color: #008080; text-decoration-color: #008080; font-weight: bold\">0.49311184883117676</span>, <span style=\"color: #008080; text-decoration-color: #008080; font-weight: bold\">0.8368899822235107</span><span style=\"font-weight: bold\">]</span>\n",
       "</pre>\n"
      ],
      "text/plain": [
       "\u001b[1m[\u001b[0m\u001b[1;36m0.49311184883117676\u001b[0m, \u001b[1;36m0.8368899822235107\u001b[0m\u001b[1m]\u001b[0m\n"
      ]
     },
     "metadata": {},
     "output_type": "display_data"
    }
   ],
   "source": [
    "plot_history(results['CONV']['history'])\n",
    "print(results['CONV']['result'])"
   ]
  },
  {
   "cell_type": "code",
   "execution_count": 120,
   "id": "ca2974f4",
   "metadata": {},
   "outputs": [
    {
     "data": {
      "image/png": "[encoded data removed]",
      "text/plain": [
       "<Figure size 432x288 with 1 Axes>"
      ]
     },
     "metadata": {
      "needs_background": "light"
     },
     "output_type": "display_data"
    },
    {
     "data": {
      "text/html": [
       "<pre style=\"white-space:pre;overflow-x:auto;line-height:normal;font-family:Menlo,'DejaVu Sans Mono',consolas,'Courier New',monospace\"><span style=\"font-weight: bold\">[</span><span style=\"color: #008080; text-decoration-color: #008080; font-weight: bold\">0.41136085987091064</span>, <span style=\"color: #008080; text-decoration-color: #008080; font-weight: bold\">0.8200663328170776</span><span style=\"font-weight: bold\">]</span>\n",
       "</pre>\n"
      ],
      "text/plain": [
       "\u001b[1m[\u001b[0m\u001b[1;36m0.41136085987091064\u001b[0m, \u001b[1;36m0.8200663328170776\u001b[0m\u001b[1m]\u001b[0m\n"
      ]
     },
     "metadata": {},
     "output_type": "display_data"
    }
   ],
   "source": [
    "plot_history(results['POOL']['history'])\n",
    "print(results['POOL']['result'])"
   ]
  },
  {
   "cell_type": "markdown",
   "id": "b20ae362",
   "metadata": {},
   "source": [
    "## 회고\n",
    "\n",
    "LSTM + Word2vec 모델은 85% 이상의 성능을 확보하였다.\n"
   ]
  },
  {
   "cell_type": "code",
   "execution_count": 123,
   "id": "242ea7c4",
   "metadata": {},
   "outputs": [
    {
     "data": {
      "text/html": [
       "<pre style=\"white-space:pre;overflow-x:auto;line-height:normal;font-family:Menlo,'DejaVu Sans Mono',consolas,'Courier New',monospace\">Model: <span style=\"color: #008000; text-decoration-color: #008000\">\"sequential_18\"</span>\n",
       "</pre>\n"
      ],
      "text/plain": [
       "Model: \u001b[32m\"sequential_18\"\u001b[0m\n"
      ]
     },
     "metadata": {},
     "output_type": "display_data"
    },
    {
     "data": {
      "text/html": [
       "<pre style=\"white-space:pre;overflow-x:auto;line-height:normal;font-family:Menlo,'DejaVu Sans Mono',consolas,'Courier New',monospace\">_________________________________________________________________\n",
       "</pre>\n"
      ],
      "text/plain": [
       "_________________________________________________________________\n"
      ]
     },
     "metadata": {},
     "output_type": "display_data"
    },
    {
     "data": {
      "text/html": [
       "<pre style=\"white-space:pre;overflow-x:auto;line-height:normal;font-family:Menlo,'DejaVu Sans Mono',consolas,'Courier New',monospace\">Layer <span style=\"font-weight: bold\">(</span>type<span style=\"font-weight: bold\">)</span>                 Output Shape              Param #   \n",
       "</pre>\n"
      ],
      "text/plain": [
       "Layer \u001b[1m(\u001b[0mtype\u001b[1m)\u001b[0m                 Output Shape              Param #   \n"
      ]
     },
     "metadata": {},
     "output_type": "display_data"
    },
    {
     "data": {
      "text/html": [
       "<pre style=\"white-space:pre;overflow-x:auto;line-height:normal;font-family:Menlo,'DejaVu Sans Mono',consolas,'Courier New',monospace\">=================================================================\n",
       "</pre>\n"
      ],
      "text/plain": [
       "=================================================================\n"
      ]
     },
     "metadata": {},
     "output_type": "display_data"
    },
    {
     "data": {
      "text/html": [
       "<pre style=\"white-space:pre;overflow-x:auto;line-height:normal;font-family:Menlo,'DejaVu Sans Mono',consolas,'Courier New',monospace\">embedding_19 <span style=\"font-weight: bold\">(</span>Embedding<span style=\"font-weight: bold\">)</span>     <span style=\"font-weight: bold\">(</span><span style=\"color: #800080; text-decoration-color: #800080; font-style: italic\">None</span>, <span style=\"color: #800080; text-decoration-color: #800080; font-style: italic\">None</span>, <span style=\"color: #008080; text-decoration-color: #008080; font-weight: bold\">100</span><span style=\"font-weight: bold\">)</span>         <span style=\"color: #008080; text-decoration-color: #008080; font-weight: bold\">1000000</span>   \n",
       "</pre>\n"
      ],
      "text/plain": [
       "embedding_19 \u001b[1m(\u001b[0mEmbedding\u001b[1m)\u001b[0m     \u001b[1m(\u001b[0m\u001b[3;35mNone\u001b[0m, \u001b[3;35mNone\u001b[0m, \u001b[1;36m100\u001b[0m\u001b[1m)\u001b[0m         \u001b[1;36m1000000\u001b[0m   \n"
      ]
     },
     "metadata": {},
     "output_type": "display_data"
    },
    {
     "data": {
      "text/html": [
       "<pre style=\"white-space:pre;overflow-x:auto;line-height:normal;font-family:Menlo,'DejaVu Sans Mono',consolas,'Courier New',monospace\">_________________________________________________________________\n",
       "</pre>\n"
      ],
      "text/plain": [
       "_________________________________________________________________\n"
      ]
     },
     "metadata": {},
     "output_type": "display_data"
    },
    {
     "data": {
      "text/html": [
       "<pre style=\"white-space:pre;overflow-x:auto;line-height:normal;font-family:Menlo,'DejaVu Sans Mono',consolas,'Courier New',monospace\">lstm_8 <span style=\"font-weight: bold\">(</span>LSTM<span style=\"font-weight: bold\">)</span>                <span style=\"font-weight: bold\">(</span><span style=\"color: #800080; text-decoration-color: #800080; font-style: italic\">None</span>, <span style=\"color: #008080; text-decoration-color: #008080; font-weight: bold\">512</span><span style=\"font-weight: bold\">)</span>               <span style=\"color: #008080; text-decoration-color: #008080; font-weight: bold\">1255424</span>   \n",
       "</pre>\n"
      ],
      "text/plain": [
       "lstm_8 \u001b[1m(\u001b[0mLSTM\u001b[1m)\u001b[0m                \u001b[1m(\u001b[0m\u001b[3;35mNone\u001b[0m, \u001b[1;36m512\u001b[0m\u001b[1m)\u001b[0m               \u001b[1;36m1255424\u001b[0m   \n"
      ]
     },
     "metadata": {},
     "output_type": "display_data"
    },
    {
     "data": {
      "text/html": [
       "<pre style=\"white-space:pre;overflow-x:auto;line-height:normal;font-family:Menlo,'DejaVu Sans Mono',consolas,'Courier New',monospace\">_________________________________________________________________\n",
       "</pre>\n"
      ],
      "text/plain": [
       "_________________________________________________________________\n"
      ]
     },
     "metadata": {},
     "output_type": "display_data"
    },
    {
     "data": {
      "text/html": [
       "<pre style=\"white-space:pre;overflow-x:auto;line-height:normal;font-family:Menlo,'DejaVu Sans Mono',consolas,'Courier New',monospace\">layer_normalization <span style=\"font-weight: bold\">(</span>LayerNo <span style=\"font-weight: bold\">(</span><span style=\"color: #800080; text-decoration-color: #800080; font-style: italic\">None</span>, <span style=\"color: #008080; text-decoration-color: #008080; font-weight: bold\">512</span><span style=\"font-weight: bold\">)</span>               <span style=\"color: #008080; text-decoration-color: #008080; font-weight: bold\">1024</span>      \n",
       "</pre>\n"
      ],
      "text/plain": [
       "layer_normalization \u001b[1m(\u001b[0mLayerNo \u001b[1m(\u001b[0m\u001b[3;35mNone\u001b[0m, \u001b[1;36m512\u001b[0m\u001b[1m)\u001b[0m               \u001b[1;36m1024\u001b[0m      \n"
      ]
     },
     "metadata": {},
     "output_type": "display_data"
    },
    {
     "data": {
      "text/html": [
       "<pre style=\"white-space:pre;overflow-x:auto;line-height:normal;font-family:Menlo,'DejaVu Sans Mono',consolas,'Courier New',monospace\">_________________________________________________________________\n",
       "</pre>\n"
      ],
      "text/plain": [
       "_________________________________________________________________\n"
      ]
     },
     "metadata": {},
     "output_type": "display_data"
    },
    {
     "data": {
      "text/html": [
       "<pre style=\"white-space:pre;overflow-x:auto;line-height:normal;font-family:Menlo,'DejaVu Sans Mono',consolas,'Courier New',monospace\">dense_36 <span style=\"font-weight: bold\">(</span>Dense<span style=\"font-weight: bold\">)</span>             <span style=\"font-weight: bold\">(</span><span style=\"color: #800080; text-decoration-color: #800080; font-style: italic\">None</span>, <span style=\"color: #008080; text-decoration-color: #008080; font-weight: bold\">8</span><span style=\"font-weight: bold\">)</span>                 <span style=\"color: #008080; text-decoration-color: #008080; font-weight: bold\">4104</span>      \n",
       "</pre>\n"
      ],
      "text/plain": [
       "dense_36 \u001b[1m(\u001b[0mDense\u001b[1m)\u001b[0m             \u001b[1m(\u001b[0m\u001b[3;35mNone\u001b[0m, \u001b[1;36m8\u001b[0m\u001b[1m)\u001b[0m                 \u001b[1;36m4104\u001b[0m      \n"
      ]
     },
     "metadata": {},
     "output_type": "display_data"
    },
    {
     "data": {
      "text/html": [
       "<pre style=\"white-space:pre;overflow-x:auto;line-height:normal;font-family:Menlo,'DejaVu Sans Mono',consolas,'Courier New',monospace\">_________________________________________________________________\n",
       "</pre>\n"
      ],
      "text/plain": [
       "_________________________________________________________________\n"
      ]
     },
     "metadata": {},
     "output_type": "display_data"
    },
    {
     "data": {
      "text/html": [
       "<pre style=\"white-space:pre;overflow-x:auto;line-height:normal;font-family:Menlo,'DejaVu Sans Mono',consolas,'Courier New',monospace\">dense_37 <span style=\"font-weight: bold\">(</span>Dense<span style=\"font-weight: bold\">)</span>             <span style=\"font-weight: bold\">(</span><span style=\"color: #800080; text-decoration-color: #800080; font-style: italic\">None</span>, <span style=\"color: #008080; text-decoration-color: #008080; font-weight: bold\">1</span><span style=\"font-weight: bold\">)</span>                 <span style=\"color: #008080; text-decoration-color: #008080; font-weight: bold\">9</span>         \n",
       "</pre>\n"
      ],
      "text/plain": [
       "dense_37 \u001b[1m(\u001b[0mDense\u001b[1m)\u001b[0m             \u001b[1m(\u001b[0m\u001b[3;35mNone\u001b[0m, \u001b[1;36m1\u001b[0m\u001b[1m)\u001b[0m                 \u001b[1;36m9\u001b[0m         \n"
      ]
     },
     "metadata": {},
     "output_type": "display_data"
    },
    {
     "data": {
      "text/html": [
       "<pre style=\"white-space:pre;overflow-x:auto;line-height:normal;font-family:Menlo,'DejaVu Sans Mono',consolas,'Courier New',monospace\">=================================================================\n",
       "</pre>\n"
      ],
      "text/plain": [
       "=================================================================\n"
      ]
     },
     "metadata": {},
     "output_type": "display_data"
    },
    {
     "data": {
      "text/html": [
       "<pre style=\"white-space:pre;overflow-x:auto;line-height:normal;font-family:Menlo,'DejaVu Sans Mono',consolas,'Courier New',monospace\">Total params: <span style=\"color: #008080; text-decoration-color: #008080; font-weight: bold\">2</span>,<span style=\"color: #008080; text-decoration-color: #008080; font-weight: bold\">260</span>,<span style=\"color: #008080; text-decoration-color: #008080; font-weight: bold\">561</span>\n",
       "</pre>\n"
      ],
      "text/plain": [
       "Total params: \u001b[1;36m2\u001b[0m,\u001b[1;36m260\u001b[0m,\u001b[1;36m561\u001b[0m\n"
      ]
     },
     "metadata": {},
     "output_type": "display_data"
    },
    {
     "data": {
      "text/html": [
       "<pre style=\"white-space:pre;overflow-x:auto;line-height:normal;font-family:Menlo,'DejaVu Sans Mono',consolas,'Courier New',monospace\">Trainable params: <span style=\"color: #008080; text-decoration-color: #008080; font-weight: bold\">2</span>,<span style=\"color: #008080; text-decoration-color: #008080; font-weight: bold\">260</span>,<span style=\"color: #008080; text-decoration-color: #008080; font-weight: bold\">561</span>\n",
       "</pre>\n"
      ],
      "text/plain": [
       "Trainable params: \u001b[1;36m2\u001b[0m,\u001b[1;36m260\u001b[0m,\u001b[1;36m561\u001b[0m\n"
      ]
     },
     "metadata": {},
     "output_type": "display_data"
    },
    {
     "data": {
      "text/html": [
       "<pre style=\"white-space:pre;overflow-x:auto;line-height:normal;font-family:Menlo,'DejaVu Sans Mono',consolas,'Courier New',monospace\">Non-trainable params: <span style=\"color: #008080; text-decoration-color: #008080; font-weight: bold\">0</span>\n",
       "</pre>\n"
      ],
      "text/plain": [
       "Non-trainable params: \u001b[1;36m0\u001b[0m\n"
      ]
     },
     "metadata": {},
     "output_type": "display_data"
    },
    {
     "data": {
      "text/html": [
       "<pre style=\"white-space:pre;overflow-x:auto;line-height:normal;font-family:Menlo,'DejaVu Sans Mono',consolas,'Courier New',monospace\">_________________________________________________________________\n",
       "</pre>\n"
      ],
      "text/plain": [
       "_________________________________________________________________\n"
      ]
     },
     "metadata": {},
     "output_type": "display_data"
    },
    {
     "data": {
      "text/html": [
       "<pre style=\"white-space:pre;overflow-x:auto;line-height:normal;font-family:Menlo,'DejaVu Sans Mono',consolas,'Courier New',monospace\"><span style=\"color: #800080; text-decoration-color: #800080; font-style: italic\">None</span>\n",
       "</pre>\n"
      ],
      "text/plain": [
       "\u001b[3;35mNone\u001b[0m\n"
      ]
     },
     "metadata": {},
     "output_type": "display_data"
    },
    {
     "data": {
      "text/html": [
       "<pre style=\"white-space:pre;overflow-x:auto;line-height:normal;font-family:Menlo,'DejaVu Sans Mono',consolas,'Courier New',monospace\">Epoch <span style=\"color: #008080; text-decoration-color: #008080; font-weight: bold\">1</span>/<span style=\"color: #008080; text-decoration-color: #008080; font-weight: bold\">20</span>\n",
       "</pre>\n"
      ],
      "text/plain": [
       "Epoch \u001b[1;36m1\u001b[0m/\u001b[1;36m20\u001b[0m\n"
      ]
     },
     "metadata": {},
     "output_type": "display_data"
    },
    {
     "name": "stdout",
     "output_type": "stream",
     "text": [
      "457/457 [==============================] - 17s 34ms/step - loss: 0.4584 - accuracy: 0.7977 - val_loss: 0.3560 - val_accuracy: 0.8438\n"
     ]
    },
    {
     "data": {
      "text/html": [
       "<pre style=\"white-space:pre;overflow-x:auto;line-height:normal;font-family:Menlo,'DejaVu Sans Mono',consolas,'Courier New',monospace\">Epoch <span style=\"color: #008080; text-decoration-color: #008080; font-weight: bold\">2</span>/<span style=\"color: #008080; text-decoration-color: #008080; font-weight: bold\">20</span>\n",
       "</pre>\n"
      ],
      "text/plain": [
       "Epoch \u001b[1;36m2\u001b[0m/\u001b[1;36m20\u001b[0m\n"
      ]
     },
     "metadata": {},
     "output_type": "display_data"
    },
    {
     "name": "stdout",
     "output_type": "stream",
     "text": [
      "457/457 [==============================] - 16s 35ms/step - loss: 0.3171 - accuracy: 0.8624 - val_loss: 0.3345 - val_accuracy: 0.8540\n"
     ]
    },
    {
     "data": {
      "text/html": [
       "<pre style=\"white-space:pre;overflow-x:auto;line-height:normal;font-family:Menlo,'DejaVu Sans Mono',consolas,'Courier New',monospace\">Epoch <span style=\"color: #008080; text-decoration-color: #008080; font-weight: bold\">3</span>/<span style=\"color: #008080; text-decoration-color: #008080; font-weight: bold\">20</span>\n",
       "</pre>\n"
      ],
      "text/plain": [
       "Epoch \u001b[1;36m3\u001b[0m/\u001b[1;36m20\u001b[0m\n"
      ]
     },
     "metadata": {},
     "output_type": "display_data"
    },
    {
     "name": "stdout",
     "output_type": "stream",
     "text": [
      "457/457 [==============================] - 16s 34ms/step - loss: 0.2679 - accuracy: 0.8855 - val_loss: 0.3444 - val_accuracy: 0.8569\n"
     ]
    },
    {
     "data": {
      "text/html": [
       "<pre style=\"white-space:pre;overflow-x:auto;line-height:normal;font-family:Menlo,'DejaVu Sans Mono',consolas,'Courier New',monospace\">Epoch <span style=\"color: #008080; text-decoration-color: #008080; font-weight: bold\">4</span>/<span style=\"color: #008080; text-decoration-color: #008080; font-weight: bold\">20</span>\n",
       "</pre>\n"
      ],
      "text/plain": [
       "Epoch \u001b[1;36m4\u001b[0m/\u001b[1;36m20\u001b[0m\n"
      ]
     },
     "metadata": {},
     "output_type": "display_data"
    },
    {
     "name": "stdout",
     "output_type": "stream",
     "text": [
      "457/457 [==============================] - 15s 33ms/step - loss: 0.2312 - accuracy: 0.9033 - val_loss: 0.3630 - val_accuracy: 0.8505\n"
     ]
    },
    {
     "data": {
      "text/html": [
       "<pre style=\"white-space:pre;overflow-x:auto;line-height:normal;font-family:Menlo,'DejaVu Sans Mono',consolas,'Courier New',monospace\">Epoch <span style=\"color: #008080; text-decoration-color: #008080; font-weight: bold\">5</span>/<span style=\"color: #008080; text-decoration-color: #008080; font-weight: bold\">20</span>\n",
       "</pre>\n"
      ],
      "text/plain": [
       "Epoch \u001b[1;36m5\u001b[0m/\u001b[1;36m20\u001b[0m\n"
      ]
     },
     "metadata": {},
     "output_type": "display_data"
    },
    {
     "name": "stdout",
     "output_type": "stream",
     "text": [
      "457/457 [==============================] - 15s 33ms/step - loss: 0.2004 - accuracy: 0.9174 - val_loss: 0.3669 - val_accuracy: 0.8510\n"
     ]
    },
    {
     "data": {
      "text/html": [
       "<pre style=\"white-space:pre;overflow-x:auto;line-height:normal;font-family:Menlo,'DejaVu Sans Mono',consolas,'Courier New',monospace\">Epoch <span style=\"color: #008080; text-decoration-color: #008080; font-weight: bold\">6</span>/<span style=\"color: #008080; text-decoration-color: #008080; font-weight: bold\">20</span>\n",
       "</pre>\n"
      ],
      "text/plain": [
       "Epoch \u001b[1;36m6\u001b[0m/\u001b[1;36m20\u001b[0m\n"
      ]
     },
     "metadata": {},
     "output_type": "display_data"
    },
    {
     "name": "stdout",
     "output_type": "stream",
     "text": [
      "457/457 [==============================] - 15s 33ms/step - loss: 0.1727 - accuracy: 0.9296 - val_loss: 0.4197 - val_accuracy: 0.8506\n"
     ]
    },
    {
     "data": {
      "text/html": [
       "<pre style=\"white-space:pre;overflow-x:auto;line-height:normal;font-family:Menlo,'DejaVu Sans Mono',consolas,'Courier New',monospace\">Epoch <span style=\"color: #008080; text-decoration-color: #008080; font-weight: bold\">7</span>/<span style=\"color: #008080; text-decoration-color: #008080; font-weight: bold\">20</span>\n",
       "</pre>\n"
      ],
      "text/plain": [
       "Epoch \u001b[1;36m7\u001b[0m/\u001b[1;36m20\u001b[0m\n"
      ]
     },
     "metadata": {},
     "output_type": "display_data"
    },
    {
     "name": "stdout",
     "output_type": "stream",
     "text": [
      "457/457 [==============================] - 15s 33ms/step - loss: 0.1490 - accuracy: 0.9401 - val_loss: 0.4512 - val_accuracy: 0.8503\n"
     ]
    },
    {
     "data": {
      "text/html": [
       "<pre style=\"white-space:pre;overflow-x:auto;line-height:normal;font-family:Menlo,'DejaVu Sans Mono',consolas,'Courier New',monospace\">Epoch <span style=\"color: #008080; text-decoration-color: #008080; font-weight: bold\">8</span>/<span style=\"color: #008080; text-decoration-color: #008080; font-weight: bold\">20</span>\n",
       "</pre>\n"
      ],
      "text/plain": [
       "Epoch \u001b[1;36m8\u001b[0m/\u001b[1;36m20\u001b[0m\n"
      ]
     },
     "metadata": {},
     "output_type": "display_data"
    },
    {
     "name": "stdout",
     "output_type": "stream",
     "text": [
      "457/457 [==============================] - 15s 34ms/step - loss: 0.1302 - accuracy: 0.9484 - val_loss: 0.5052 - val_accuracy: 0.8472\n"
     ]
    },
    {
     "data": {
      "text/html": [
       "<pre style=\"white-space:pre;overflow-x:auto;line-height:normal;font-family:Menlo,'DejaVu Sans Mono',consolas,'Courier New',monospace\">Epoch <span style=\"color: #008080; text-decoration-color: #008080; font-weight: bold\">9</span>/<span style=\"color: #008080; text-decoration-color: #008080; font-weight: bold\">20</span>\n",
       "</pre>\n"
      ],
      "text/plain": [
       "Epoch \u001b[1;36m9\u001b[0m/\u001b[1;36m20\u001b[0m\n"
      ]
     },
     "metadata": {},
     "output_type": "display_data"
    },
    {
     "name": "stdout",
     "output_type": "stream",
     "text": [
      "457/457 [==============================] - 15s 34ms/step - loss: 0.1152 - accuracy: 0.9539 - val_loss: 0.5333 - val_accuracy: 0.8480\n"
     ]
    },
    {
     "data": {
      "text/html": [
       "<pre style=\"white-space:pre;overflow-x:auto;line-height:normal;font-family:Menlo,'DejaVu Sans Mono',consolas,'Courier New',monospace\">Epoch <span style=\"color: #008080; text-decoration-color: #008080; font-weight: bold\">10</span>/<span style=\"color: #008080; text-decoration-color: #008080; font-weight: bold\">20</span>\n",
       "</pre>\n"
      ],
      "text/plain": [
       "Epoch \u001b[1;36m10\u001b[0m/\u001b[1;36m20\u001b[0m\n"
      ]
     },
     "metadata": {},
     "output_type": "display_data"
    },
    {
     "name": "stdout",
     "output_type": "stream",
     "text": [
      "457/457 [==============================] - 15s 33ms/step - loss: 0.0993 - accuracy: 0.9607 - val_loss: 0.6077 - val_accuracy: 0.8464\n"
     ]
    },
    {
     "data": {
      "text/html": [
       "<pre style=\"white-space:pre;overflow-x:auto;line-height:normal;font-family:Menlo,'DejaVu Sans Mono',consolas,'Courier New',monospace\">Epoch <span style=\"color: #008080; text-decoration-color: #008080; font-weight: bold\">11</span>/<span style=\"color: #008080; text-decoration-color: #008080; font-weight: bold\">20</span>\n",
       "</pre>\n"
      ],
      "text/plain": [
       "Epoch \u001b[1;36m11\u001b[0m/\u001b[1;36m20\u001b[0m\n"
      ]
     },
     "metadata": {},
     "output_type": "display_data"
    },
    {
     "name": "stdout",
     "output_type": "stream",
     "text": [
      "457/457 [==============================] - 15s 33ms/step - loss: 0.0882 - accuracy: 0.9646 - val_loss: 0.6638 - val_accuracy: 0.8433\n"
     ]
    },
    {
     "data": {
      "text/html": [
       "<pre style=\"white-space:pre;overflow-x:auto;line-height:normal;font-family:Menlo,'DejaVu Sans Mono',consolas,'Courier New',monospace\">Epoch <span style=\"color: #008080; text-decoration-color: #008080; font-weight: bold\">12</span>/<span style=\"color: #008080; text-decoration-color: #008080; font-weight: bold\">20</span>\n",
       "</pre>\n"
      ],
      "text/plain": [
       "Epoch \u001b[1;36m12\u001b[0m/\u001b[1;36m20\u001b[0m\n"
      ]
     },
     "metadata": {},
     "output_type": "display_data"
    },
    {
     "name": "stdout",
     "output_type": "stream",
     "text": [
      "457/457 [==============================] - 15s 33ms/step - loss: 0.0793 - accuracy: 0.9681 - val_loss: 0.6839 - val_accuracy: 0.8425\n"
     ]
    },
    {
     "data": {
      "text/html": [
       "<pre style=\"white-space:pre;overflow-x:auto;line-height:normal;font-family:Menlo,'DejaVu Sans Mono',consolas,'Courier New',monospace\">Epoch <span style=\"color: #008080; text-decoration-color: #008080; font-weight: bold\">00012</span>: early stopping\n",
       "</pre>\n"
      ],
      "text/plain": [
       "Epoch \u001b[1;36m00012\u001b[0m: early stopping\n"
      ]
     },
     "metadata": {},
     "output_type": "display_data"
    },
    {
     "name": "stdout",
     "output_type": "stream",
     "text": [
      "1537/1537 - 5s - loss: 0.6898 - accuracy: 0.8376\n"
     ]
    }
   ],
   "source": [
    "def LSTM_NORM(embeddings):\n",
    "    model = keras.Sequential(\n",
    "        [\n",
    "            embeddings,\n",
    "            keras.layers.LSTM(512),\n",
    "            keras.layers.LayerNormalization(),\n",
    "            keras.layers.Dense(8, activation='relu'),\n",
    "            keras.layers.Dense(1, activation='sigmoid')\n",
    "        ]\n",
    "    )\n",
    "    print(model.summary())\n",
    "    model.compile(optimizer='adam',\n",
    "                  loss='binary_crossentropy',\n",
    "                  metrics=['accuracy'])\n",
    "    return model\n",
    "\n",
    "batch_size = 256\n",
    "model = LSTM_NORM(tf.keras.layers.Embedding(vocab_size, word_vector_dim, input_shape=(None,)))\n",
    "history = model.fit(X_train,\n",
    "                    y_train,\n",
    "                    epochs=20,\n",
    "                    batch_size=batch_size,\n",
    "                    callbacks=callbacks,\n",
    "                    validation_data=(X_val, y_val),\n",
    "                    verbose=1)\n",
    "results = model.evaluate(x_test,  y_test, verbose=2)"
   ]
  },
  {
   "cell_type": "markdown",
   "id": "9206f88e",
   "metadata": {},
   "source": [
    "> Normalization layers usually apply their normalization effect to the previous layer, so it should be put in front of the layer that you want normalized.\n",
    "\n",
    "normalization을 했는데 더 성능이 좋아지진 않았다."
   ]
  },
  {
   "cell_type": "code",
   "execution_count": 128,
   "id": "fc31f525",
   "metadata": {},
   "outputs": [
    {
     "data": {
      "text/plain": [
       "[('1992', 0.8096157312393188),\n",
       " ('테', 0.7751392126083374),\n",
       " ('일어났', 0.7378237843513489),\n",
       " ('콜린스', 0.7122530341148376),\n",
       " ('착하', 0.7100092172622681),\n",
       " ('까먹', 0.707072377204895),\n",
       " ('국민', 0.7033789157867432),\n",
       " ('바지', 0.7028982043266296),\n",
       " ('이따', 0.6908925771713257),\n",
       " ('채민서', 0.6907433867454529)]"
      ]
     },
     "execution_count": 128,
     "metadata": {},
     "output_type": "execute_result"
    }
   ],
   "source": [
    "embedding_layer = model.layers[0]\n",
    "embedding_matrix = embedding_layer.get_weights()[0]\n",
    "\n",
    "from gensim.models import KeyedVectors\n",
    "\n",
    "word_vectors = KeyedVectors(vector_size=word_vector_dim)\n",
    "for i in range(4,vocab_size):\n",
    "    word_vectors.add_vectors(index_to_word[i], embedding_matrix[i])\n",
    "\n",
    "# Fine tunning된 워드 임베딩\n",
    "word_vectors.similar_by_word(word_to_index['타이타닉'])"
   ]
  },
  {
   "cell_type": "code",
   "execution_count": 129,
   "id": "355cc07c",
   "metadata": {},
   "outputs": [
    {
     "data": {
      "text/plain": [
       "[('브리타닉', 0.7651368975639343),\n",
       " ('노틸러스', 0.7062833905220032),\n",
       " ('바운티', 0.6730524897575378),\n",
       " ('보리알리스', 0.6610607504844666),\n",
       " ('인데버', 0.6517763137817383),\n",
       " ('보이저', 0.6426752209663391),\n",
       " ('아라온', 0.6318589448928833),\n",
       " ('이타스카', 0.6298863291740417),\n",
       " ('챔플레인', 0.6284394264221191),\n",
       " ('비글', 0.6260406374931335)]"
      ]
     },
     "execution_count": 129,
     "metadata": {},
     "output_type": "execute_result"
    }
   ],
   "source": [
    "# 최초의 워드 임베딩\n",
    "word2vec.wv.similar_by_word('타이타닉')"
   ]
  },
  {
   "cell_type": "code",
   "execution_count": 130,
   "id": "d656316f",
   "metadata": {},
   "outputs": [
    {
     "data": {
      "text/html": [
       "<pre style=\"white-space:pre;overflow-x:auto;line-height:normal;font-family:Menlo,'DejaVu Sans Mono',consolas,'Courier New',monospace\"><span style=\"font-weight: bold\">[</span>\n",
       "    <span style=\"font-weight: bold\">(</span><span style=\"color: #008000; text-decoration-color: #008000\">'이상실'</span>, <span style=\"color: #008080; text-decoration-color: #008080; font-weight: bold\">0.7095305919647217</span><span style=\"font-weight: bold\">)</span>,\n",
       "    <span style=\"font-weight: bold\">(</span><span style=\"color: #008000; text-decoration-color: #008000\">'홍콩식'</span>, <span style=\"color: #008080; text-decoration-color: #008080; font-weight: bold\">0.7051594853401184</span><span style=\"font-weight: bold\">)</span>,\n",
       "    <span style=\"font-weight: bold\">(</span><span style=\"color: #008000; text-decoration-color: #008000\">'저급'</span>, <span style=\"color: #008080; text-decoration-color: #008080; font-weight: bold\">0.6968289017677307</span><span style=\"font-weight: bold\">)</span>,\n",
       "    <span style=\"font-weight: bold\">(</span><span style=\"color: #008000; text-decoration-color: #008000\">'진행'</span>, <span style=\"color: #008080; text-decoration-color: #008080; font-weight: bold\">0.6951013207435608</span><span style=\"font-weight: bold\">)</span>,\n",
       "    <span style=\"font-weight: bold\">(</span><span style=\"color: #008000; text-decoration-color: #008000\">'족'</span>, <span style=\"color: #008080; text-decoration-color: #008080; font-weight: bold\">0.6926105618476868</span><span style=\"font-weight: bold\">)</span>,\n",
       "    <span style=\"font-weight: bold\">(</span><span style=\"color: #008000; text-decoration-color: #008000\">'욕할'</span>, <span style=\"color: #008080; text-decoration-color: #008080; font-weight: bold\">0.6897998452186584</span><span style=\"font-weight: bold\">)</span>,\n",
       "    <span style=\"font-weight: bold\">(</span><span style=\"color: #008000; text-decoration-color: #008000\">'충동'</span>, <span style=\"color: #008080; text-decoration-color: #008080; font-weight: bold\">0.687019944190979</span><span style=\"font-weight: bold\">)</span>,\n",
       "    <span style=\"font-weight: bold\">(</span><span style=\"color: #008000; text-decoration-color: #008000\">'애기'</span>, <span style=\"color: #008080; text-decoration-color: #008080; font-weight: bold\">0.6834035515785217</span><span style=\"font-weight: bold\">)</span>,\n",
       "    <span style=\"font-weight: bold\">(</span><span style=\"color: #008000; text-decoration-color: #008000\">'놀'</span>, <span style=\"color: #008080; text-decoration-color: #008080; font-weight: bold\">0.6824995279312134</span><span style=\"font-weight: bold\">)</span>,\n",
       "    <span style=\"font-weight: bold\">(</span><span style=\"color: #008000; text-decoration-color: #008000\">'오류'</span>, <span style=\"color: #008080; text-decoration-color: #008080; font-weight: bold\">0.6749060153961182</span><span style=\"font-weight: bold\">)</span>\n",
       "<span style=\"font-weight: bold\">]</span>\n",
       "</pre>\n"
      ],
      "text/plain": [
       "\u001b[1m[\u001b[0m\n",
       "    \u001b[1m(\u001b[0m\u001b[32m'이상실'\u001b[0m, \u001b[1;36m0.7095305919647217\u001b[0m\u001b[1m)\u001b[0m,\n",
       "    \u001b[1m(\u001b[0m\u001b[32m'홍콩식'\u001b[0m, \u001b[1;36m0.7051594853401184\u001b[0m\u001b[1m)\u001b[0m,\n",
       "    \u001b[1m(\u001b[0m\u001b[32m'저급'\u001b[0m, \u001b[1;36m0.6968289017677307\u001b[0m\u001b[1m)\u001b[0m,\n",
       "    \u001b[1m(\u001b[0m\u001b[32m'진행'\u001b[0m, \u001b[1;36m0.6951013207435608\u001b[0m\u001b[1m)\u001b[0m,\n",
       "    \u001b[1m(\u001b[0m\u001b[32m'족'\u001b[0m, \u001b[1;36m0.6926105618476868\u001b[0m\u001b[1m)\u001b[0m,\n",
       "    \u001b[1m(\u001b[0m\u001b[32m'욕할'\u001b[0m, \u001b[1;36m0.6897998452186584\u001b[0m\u001b[1m)\u001b[0m,\n",
       "    \u001b[1m(\u001b[0m\u001b[32m'충동'\u001b[0m, \u001b[1;36m0.687019944190979\u001b[0m\u001b[1m)\u001b[0m,\n",
       "    \u001b[1m(\u001b[0m\u001b[32m'애기'\u001b[0m, \u001b[1;36m0.6834035515785217\u001b[0m\u001b[1m)\u001b[0m,\n",
       "    \u001b[1m(\u001b[0m\u001b[32m'놀'\u001b[0m, \u001b[1;36m0.6824995279312134\u001b[0m\u001b[1m)\u001b[0m,\n",
       "    \u001b[1m(\u001b[0m\u001b[32m'오류'\u001b[0m, \u001b[1;36m0.6749060153961182\u001b[0m\u001b[1m)\u001b[0m\n",
       "\u001b[1m]\u001b[0m\n"
      ]
     },
     "metadata": {},
     "output_type": "display_data"
    },
    {
     "data": {
      "text/html": [
       "<pre style=\"white-space:pre;overflow-x:auto;line-height:normal;font-family:Menlo,'DejaVu Sans Mono',consolas,'Courier New',monospace\"><span style=\"font-weight: bold\">[</span>\n",
       "    <span style=\"font-weight: bold\">(</span><span style=\"color: #008000; text-decoration-color: #008000\">'에일리언'</span>, <span style=\"color: #008080; text-decoration-color: #008080; font-weight: bold\">0.8037504553794861</span><span style=\"font-weight: bold\">)</span>,\n",
       "    <span style=\"font-weight: bold\">(</span><span style=\"color: #008000; text-decoration-color: #008000\">'아이언맨'</span>, <span style=\"color: #008080; text-decoration-color: #008080; font-weight: bold\">0.8001936078071594</span><span style=\"font-weight: bold\">)</span>,\n",
       "    <span style=\"font-weight: bold\">(</span><span style=\"color: #008000; text-decoration-color: #008000\">'트랜스포머'</span>, <span style=\"color: #008080; text-decoration-color: #008080; font-weight: bold\">0.7760803699493408</span><span style=\"font-weight: bold\">)</span>,\n",
       "    <span style=\"font-weight: bold\">(</span><span style=\"color: #008000; text-decoration-color: #008000\">'스타워즈'</span>, <span style=\"color: #008080; text-decoration-color: #008080; font-weight: bold\">0.7746523022651672</span><span style=\"font-weight: bold\">)</span>,\n",
       "    <span style=\"font-weight: bold\">(</span><span style=\"color: #008000; text-decoration-color: #008000\">'스파이더맨'</span>, <span style=\"color: #008080; text-decoration-color: #008080; font-weight: bold\">0.771183967590332</span><span style=\"font-weight: bold\">)</span>,\n",
       "    <span style=\"font-weight: bold\">(</span><span style=\"color: #008000; text-decoration-color: #008000\">'엑스맨'</span>, <span style=\"color: #008080; text-decoration-color: #008080; font-weight: bold\">0.7410327196121216</span><span style=\"font-weight: bold\">)</span>,\n",
       "    <span style=\"font-weight: bold\">(</span><span style=\"color: #008000; text-decoration-color: #008000\">'록맨'</span>, <span style=\"color: #008080; text-decoration-color: #008080; font-weight: bold\">0.7400428056716919</span><span style=\"font-weight: bold\">)</span>,\n",
       "    <span style=\"font-weight: bold\">(</span><span style=\"color: #008000; text-decoration-color: #008000\">'소울칼리버'</span>, <span style=\"color: #008080; text-decoration-color: #008080; font-weight: bold\">0.7331603169441223</span><span style=\"font-weight: bold\">)</span>,\n",
       "    <span style=\"font-weight: bold\">(</span><span style=\"color: #008000; text-decoration-color: #008000\">'심즈'</span>, <span style=\"color: #008080; text-decoration-color: #008080; font-weight: bold\">0.7300594449043274</span><span style=\"font-weight: bold\">)</span>,\n",
       "    <span style=\"font-weight: bold\">(</span><span style=\"color: #008000; text-decoration-color: #008000\">'디아블로'</span>, <span style=\"color: #008080; text-decoration-color: #008080; font-weight: bold\">0.7297697067260742</span><span style=\"font-weight: bold\">)</span>\n",
       "<span style=\"font-weight: bold\">]</span>\n",
       "</pre>\n"
      ],
      "text/plain": [
       "\u001b[1m[\u001b[0m\n",
       "    \u001b[1m(\u001b[0m\u001b[32m'에일리언'\u001b[0m, \u001b[1;36m0.8037504553794861\u001b[0m\u001b[1m)\u001b[0m,\n",
       "    \u001b[1m(\u001b[0m\u001b[32m'아이언맨'\u001b[0m, \u001b[1;36m0.8001936078071594\u001b[0m\u001b[1m)\u001b[0m,\n",
       "    \u001b[1m(\u001b[0m\u001b[32m'트랜스포머'\u001b[0m, \u001b[1;36m0.7760803699493408\u001b[0m\u001b[1m)\u001b[0m,\n",
       "    \u001b[1m(\u001b[0m\u001b[32m'스타워즈'\u001b[0m, \u001b[1;36m0.7746523022651672\u001b[0m\u001b[1m)\u001b[0m,\n",
       "    \u001b[1m(\u001b[0m\u001b[32m'스파이더맨'\u001b[0m, \u001b[1;36m0.771183967590332\u001b[0m\u001b[1m)\u001b[0m,\n",
       "    \u001b[1m(\u001b[0m\u001b[32m'엑스맨'\u001b[0m, \u001b[1;36m0.7410327196121216\u001b[0m\u001b[1m)\u001b[0m,\n",
       "    \u001b[1m(\u001b[0m\u001b[32m'록맨'\u001b[0m, \u001b[1;36m0.7400428056716919\u001b[0m\u001b[1m)\u001b[0m,\n",
       "    \u001b[1m(\u001b[0m\u001b[32m'소울칼리버'\u001b[0m, \u001b[1;36m0.7331603169441223\u001b[0m\u001b[1m)\u001b[0m,\n",
       "    \u001b[1m(\u001b[0m\u001b[32m'심즈'\u001b[0m, \u001b[1;36m0.7300594449043274\u001b[0m\u001b[1m)\u001b[0m,\n",
       "    \u001b[1m(\u001b[0m\u001b[32m'디아블로'\u001b[0m, \u001b[1;36m0.7297697067260742\u001b[0m\u001b[1m)\u001b[0m\n",
       "\u001b[1m]\u001b[0m\n"
      ]
     },
     "metadata": {},
     "output_type": "display_data"
    }
   ],
   "source": [
    "print(word_vectors.similar_by_word(word_to_index['터미네이터']))\n",
    "print(word2vec.wv.similar_by_word('터미네이터'))"
   ]
  },
  {
   "cell_type": "markdown",
   "id": "c4d82577",
   "metadata": {},
   "source": [
    "- 1992를 잡아낸것을 보면 그래도 영화 리뷰로 fine tunning한 임베딩이 좀 더 효과적인 것 같다. \n",
    "- 하지만 터미네이터의 경우를 보면 영화 리뷰에 초점을 맞춰서 그런지 연관성 없어 보이는 단어들이 들어있긴 한 것 같다."
   ]
  },
  {
   "cell_type": "markdown",
   "id": "5c02e757",
   "metadata": {},
   "source": [
    "평가문항\n",
    "1. [x] 다양한 방법으로 Text Classification 태스크를 성공적으로 구현하였다.\t(3가지 이상의 모델이 성공적으로 시도됨)\n",
    "2. [x] gensim을 활용하여 자체학습된 혹은 사전학습된 임베딩 레이어를 분석하였다.\tgensim의 유사단어 찾기를 활용하여 자체학습한 임베딩과 사전학습 임베딩을 비교 분석함\n",
    "3. [x] 한국어 Word2Vec을 활용하여 가시적인 성능향상을 달성했다.\t네이버 영화리뷰 데이터 감성분석 정확도를 85% 이상 달성함\n",
    "\n",
    "## 회고\n",
    "#### 배운 점\n",
    "pre, post padding에 대해서 배웠고, vec sim을 해볼 수 있는 실질적인 도구를 익혔다.\n",
    "\n",
    "#### 아쉬운 점\n",
    "- dropout, layernorm을 해보고 싶은데 많이 해보지 못했다.\n",
    "- bpe로 테스트해보고 싶었는데 못했다.\n",
    "\n",
    "#### 느낀 점\n",
    "코드가 길어지면 길을 잃기 마련이다. 계속 습관처럼 정리하면서 코드를 만져야겠다.\n",
    "\n",
    "#### 어려웠던 점\n",
    "- layer norm을 어디에 넣어야 할지 어려웠다.\n",
    "- lstm의 unit갯수가 의미하는 바가 조금 헷갈렸다."
   ]
  },
  {
   "cell_type": "code",
   "execution_count": null,
   "id": "1dace518",
   "metadata": {},
   "outputs": [],
   "source": []
  }
 ],
 "metadata": {
  "kernelspec": {
   "display_name": "Python 3 (ipykernel)",
   "language": "python",
   "name": "python3"
  },
  "language_info": {
   "codemirror_mode": {
    "name": "ipython",
    "version": 3
   },
   "file_extension": ".py",
   "mimetype": "text/x-python",
   "name": "python",
   "nbconvert_exporter": "python",
   "pygments_lexer": "ipython3",
   "version": "3.9.7"
  }
 },
 "nbformat": 4,
 "nbformat_minor": 5
}
